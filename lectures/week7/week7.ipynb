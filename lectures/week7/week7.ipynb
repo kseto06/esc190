{
 "cells": [
  {
   "cell_type": "markdown",
   "metadata": {},
   "source": [
    "### ArrayList"
   ]
  },
  {
   "cell_type": "code",
   "execution_count": null,
   "metadata": {},
   "outputs": [
    {
     "name": "stdout",
     "output_type": "stream",
     "text": [
      "Overwriting ArrayList.h\n"
     ]
    }
   ],
   "source": [
    "%%file ArrayList.h\n",
    "\n",
    "#if !defined(AL_H)\n",
    "#define AL_H\n",
    "\n",
    "typedef struct ArrayList{\n",
    "    int *array;\n",
    "    int size;\n",
    "    int capacity;\n",
    "} AL;\n",
    "\n",
    "void create_list(AL **list);\n",
    "void destroy_list(AL *list);\n",
    "\n",
    "\n",
    "void insert_list(AL *list, int data);\n",
    "void print_list(AL *list);\n",
    "void delete_list(AL *list, int data);\n",
    "void destroy_list(AL *list);\n",
    "void delete_list_ind(AL *list, int index);\n",
    "\n",
    "#endif"
   ]
  },
  {
   "cell_type": "code",
   "execution_count": null,
   "metadata": {},
   "outputs": [
    {
     "name": "stdout",
     "output_type": "stream",
     "text": [
      "Overwriting ArrayList.c\n"
     ]
    }
   ],
   "source": [
    "%%file ArrayList.c\n",
    "\n",
    "#include \"ArrayList.h\"\n",
    "#include <stdlib.h>\n",
    "#include <stdio.h>\n",
    "\n",
    "void create_list(AL **list){\n",
    "    *list = (AL *)malloc(sizeof(AL));\n",
    "    (*list)->array = (int *)malloc(sizeof(int) * 10);\n",
    "    (*list)->size = 0;\n",
    "    (*list)->capacity = 10;\n",
    "}\n",
    "\n",
    "void destroy_list(AL *list){\n",
    "    free(list->array);\n",
    "    free(list);\n",
    "}\n",
    "\n",
    "void insert_list(AL *list, int data){\n",
    "    if(list->size == list->capacity){\n",
    "        list->capacity *= 2;\n",
    "        list->array = (int *)realloc(list->array, sizeof(int) * list->capacity);\n",
    "    }\n",
    "    list->array[list->size++] = data;\n",
    "}\n",
    "\n",
    "void print_list(AL *list){\n",
    "    for(int i = 0; i < list->size; i++){\n",
    "        printf(\"%d \", list->array[i]);\n",
    "    }\n",
    "    printf(\"\\n\");\n",
    "}\n",
    "\n",
    "void delete_list(AL *list, int data){\n",
    "    int i = 0;\n",
    "    for(i = 0; i < list->size; i++){\n",
    "        if(list->array[i] == data){\n",
    "            break;\n",
    "        }\n",
    "    }\n",
    "    if(i == list->size){\n",
    "        return;\n",
    "    }\n",
    "    for(int j = i; j < list->size - 1; j++){\n",
    "        list->array[j] = list->array[j + 1];\n",
    "    }\n",
    "    list->size--;\n",
    "}\n",
    "\n",
    "void delete_list_ind(AL *list, int index){\n",
    "    if(index < 0 || index >= list->size){\n",
    "        return;\n",
    "    }\n",
    "    for(int i = index; i < list->size - 1; i++){\n",
    "        list->array[i] = list->array[i + 1];\n",
    "    }\n",
    "    list->size--;\n",
    "}\n",
    "\n",
    "int main() {\n",
    "    LL *list;\n",
    "    create_list(&list);\n",
    "    insert_list(list, 1);\n",
    "    insert_list(list, 2);\n",
    "    insert_list(list, 3);\n",
    "    insert_list(list, 4);\n",
    "    insert_list(list, 5);\n",
    "    print_list(list);\n",
    "    delete_list_ind(list, 0);\n",
    "    print_list(list);\n",
    "    return 0;\n",
    "}"
   ]
  },
  {
   "cell_type": "markdown",
   "metadata": {},
   "source": [
    "#### Linked List vs ArrayList\n",
    "\n",
    "**Linked List**: 1->2->3->4->5\n",
    "**ArrayList**: [1, 2, 3, 4, 5]\n",
    "\n",
    "`append/insert`:\n",
    "- To append to the ArrayList: can access index 5 immediately (with arithmetic) but you need to possibly realloc the whole array and move it\n",
    "- In the worst case, complexity is `O(n)` where n = number of elems\n",
    "<br>\n",
    "- For a linked list: can \"append\" to the beginning \n",
    "- Complexity is `O(1)` --> just make the head point to the new node, make the new node point to the old head"
   ]
  },
  {
   "cell_type": "markdown",
   "metadata": {},
   "source": [
    "### Queue\n",
    "- A list with FIFO (First in / first out) operations\n",
    "- No random access (ability to get any element by index)\n",
    "\n",
    "Operations\n",
    "- `enqueue`: add elem to the end of the queue\n",
    "- `dequeue`: remove first elem from the queue"
   ]
  },
  {
   "cell_type": "code",
   "execution_count": null,
   "metadata": {},
   "outputs": [],
   "source": [
    "#include <iostream>\n",
    "\n",
    "int main() {\n",
    "    enqueue(5);\n",
    "    enqueue(6);\n",
    "    enqueue(1); // Queue now 5, 6, 1\n",
    "    dequeue(5); // Queue now 6, 1 (5 leaves)\n",
    "}"
   ]
  },
  {
   "cell_type": "markdown",
   "metadata": {},
   "source": [
    "#### Queue using an ArrayList:"
   ]
  },
  {
   "cell_type": "code",
   "execution_count": 1,
   "metadata": {},
   "outputs": [
    {
     "name": "stdout",
     "output_type": "stream",
     "text": [
      "Writing q.h\n"
     ]
    }
   ],
   "source": [
    "%%file q.h\n",
    "\n",
    "#ifndef(Q)\n",
    "#include \"ArrayList.h\"\n",
    "#include <stdlib.h>\n",
    "#define(Q)\n",
    "\n",
    "typedef struct queue {\n",
    "    AL *list;\n",
    "} queue;\n",
    "\n",
    "void create_queue(queue **p_q);\n",
    "void destroy_queue(queue *q);\n",
    "\n",
    "void enqueue(queue *q, int data);\n",
    "int dequeue(queue *q);\n",
    "\n",
    "#endif"
   ]
  },
  {
   "cell_type": "code",
   "execution_count": 2,
   "metadata": {},
   "outputs": [
    {
     "name": "stdout",
     "output_type": "stream",
     "text": [
      "Writing q.c\n"
     ]
    }
   ],
   "source": [
    "%%file q.c\n",
    "\n",
    "#include \"ArrayList.h\"\n",
    "#include \"q.h\"\n",
    "#include <stdio.h>\n",
    "\n",
    "void create_queue(queue **p_q) {\n",
    "    (*p_q) = malloc(sizeof(queue));\n",
    "    create_list(&((*p_q)->list));\n",
    "}\n",
    "\n",
    "void destroy_queue(queue *q) {\n",
    "    destroy_list(q->list);\n",
    "}\n",
    "\n",
    "void enqueue(queue *q, int data) {\n",
    "    insert_list(q->list, data)\n",
    "}\n",
    "\n",
    "//Get element at index 0, remove it and return it\n",
    "void dequeue(queue *q) {\n",
    "    int ret = q->list->array[0];\n",
    "    delete_list_ind(q->list, 0);\n",
    "    return ret;\n",
    "}\n",
    "\n",
    "int main() {\n",
    "    queue *q;\n",
    "    create_queue(&q);\n",
    "    enqueue(q, 5);\n",
    "    enqueue(q, 1);\n",
    "    enqueue(q, 2);\n",
    "    printf(\"%d\\n\", dequeue(q));\n",
    "    printf(\"%d\\n\", dequeue(q));\n",
    "    destroy_queue(q);\n",
    "}"
   ]
  },
  {
   "cell_type": "markdown",
   "metadata": {},
   "source": [
    "- In the worst case, enqueue is O(n), but usually less than that\n",
    "- Everytime, dequeue is O(n), because need to move L[1:] one spot to the left\n",
    "<br>\n",
    "- If using a linked list, data will look like this:\n",
    "<br>\n",
    "head->5->6->10->2->NULL\n",
    "\n",
    "- Can insert next to the head in O(1) time\n",
    "- If you keep track of where the last node is, can also append in O(1)"
   ]
  },
  {
   "cell_type": "markdown",
   "metadata": {},
   "source": [
    "### Queues in Python"
   ]
  },
  {
   "cell_type": "code",
   "execution_count": 3,
   "metadata": {},
   "outputs": [
    {
     "name": "stdout",
     "output_type": "stream",
     "text": [
      "[2, 3, 4, 5]\n"
     ]
    }
   ],
   "source": [
    "class Queue:\n",
    "    def __init__(self):\n",
    "        self.array = []\n",
    "\n",
    "    def enqueue(self, item):\n",
    "        self.array.append(item)\n",
    "\n",
    "    def dequeue(self):\n",
    "        if self.is_empty():\n",
    "            return None\n",
    "\n",
    "        ret = self.array[0]\n",
    "        del self.array[0]\n",
    "        return ret\n",
    "    \n",
    "    def is_empty(self):\n",
    "        return len(self.array) == 0\n",
    "    \n",
    "    def print_queue(self):\n",
    "        print(self.array)\n",
    "\n",
    "    def __lt__(self, other):\n",
    "        return self.array < other.array\n",
    "\n",
    "    def __repr__(self):\n",
    "        return str(self.array)\n",
    "\n",
    "if __name__ == \"__main__\":\n",
    "    q = Queue()\n",
    "    q.enqueue(1)\n",
    "    q.enqueue(2)\n",
    "    q.enqueue(3)\n",
    "    q.enqueue(4)\n",
    "    q.enqueue(5)\n",
    "    q.dequeue()\n",
    "    q.print_queue()"
   ]
  },
  {
   "cell_type": "markdown",
   "metadata": {},
   "source": [
    "### CS Design Space\n",
    "- No known techniques to solve efficiently, and likely no possible techniques to solve efficiently:\n",
    "    - Determine if white/black wins in chess\n",
    "    - Find a proof for Fermat's Last Theorem\n",
    "    - Predict the weather\n",
    "    - Find the optimal timetable\n",
    "\n",
    "- Possible to do:\n",
    "    - Find (most) pages on the internet relevant to a query\n",
    "    - Generate all passwords of length 7\n",
    "    - Find a pretty good timetable for EngSci 1S\n",
    "\n",
    "### Python or C\n",
    "- It is easier to first prototype and debug conceptually-difficult algorithms in Python\n",
    "- C is the most efficient solution, but Python is easier to implement"
   ]
  },
  {
   "cell_type": "markdown",
   "metadata": {},
   "source": [
    "### Dynamic Programming\n",
    "- Fibonacci numbers --> use recursion\n",
    "- More efficient solution is `memoization`:\n",
    "<br>\n",
    "- The time complexity splits into a tree for usual Fibonacci recursion\n",
    "<br>\n",
    "How many calls to fib are there if we start with fib(n)?\n",
    "- n levels, one call \"to the right\" from every level\n",
    "- There are 2n-1 calls (the -1 is included because there is no call to the left from fib(1))\n",
    "- `Complexity`: `O(n)` since each call takes the same amount of time (approx)"
   ]
  },
  {
   "cell_type": "code",
   "execution_count": 4,
   "metadata": {},
   "outputs": [
    {
     "data": {
      "text/plain": [
       "2"
      ]
     },
     "execution_count": 4,
     "metadata": {},
     "output_type": "execute_result"
    }
   ],
   "source": [
    "# Maintain a table of values that were already computed\n",
    "def fib(n: int, mem: dict = {}) -> int:\n",
    "    if n in mem:\n",
    "        return mem[n]\n",
    "    if n <= 2:\n",
    "        return 1\n",
    "    mem[n] = fib(n - 1, mem) + fib(n - 2, mem)\n",
    "    return mem[n]\n",
    "\n",
    "fib(3)"
   ]
  },
  {
   "cell_type": "markdown",
   "metadata": {},
   "source": [
    "#### Dynamic Programming Approach\n",
    "- Solve subproblems, and store the solutions to those subproblems\n",
    "- Use solutions to small subproblems to compute solutions to larger problems\n",
    "- `O(n)` bc we have to compute ~n entities in a list using a for-loop\n",
    "- Subproblems: Compute `fib_list[:i]` for `i = 0 to n`"
   ]
  },
  {
   "cell_type": "code",
   "execution_count": 5,
   "metadata": {},
   "outputs": [
    {
     "data": {
      "text/plain": [
       "13"
      ]
     },
     "execution_count": 5,
     "metadata": {},
     "output_type": "execute_result"
    }
   ],
   "source": [
    "def fib_iter(n: int) -> int:\n",
    "    fib_list = [0] * (n)\n",
    "    fib_list[0:2] = [1, 1]\n",
    "    for i in range(2, n):\n",
    "        fib_list[i] = fib_list[i - 1] + fib_list[i - 2]\n",
    "\n",
    "    return fib_list[-1]\n",
    "\n",
    "fib_iter(7)"
   ]
  },
  {
   "cell_type": "markdown",
   "metadata": {},
   "source": [
    "## Dynamic Programming: Outline\n",
    "- Divide a complex problem into a number of simpler overlapping problems\n",
    "    - n+1 problems, where the i-th problem is the i-th Fibonacci number\n",
    "- Define a relationship between solutions to more complex problems and solutions to simpler problems\n",
    "    - Can compute F<sub>i</sub> using F<sub>i-1</sub> and F<sub>i-2</sub> \n",
    "- Store solutions to each subproblem, solving each subproblem once\n",
    "    - Use `fib_list` to store solutions\n",
    "- Use stored solutions to solve the original problem"
   ]
  },
  {
   "cell_type": "markdown",
   "metadata": {},
   "source": [
    "### Problem 1: Painting Houses\n",
    "- Goal: Paint a row on `n` houses red, green, or blue s.t:\n",
    "    - Total cost is minimized: cost(i, col) is the cost to paint the `i`-th house in colour col\n",
    "    - No two adjacent houses have the same colour\n",
    "<br>\n",
    "- Subproblems\n",
    "    - R(i) = min cost to paint the first `i` houses, with the `i`-th house painted red\n",
    "    - G(i) = min cost to paint the first `i` houses, with the `i`-th house painted green\n",
    "    - B(i) = min cost to paint the first `i` houses, with the `i`-th house painted blue\n",
    "\n",
    "- Relationship between problems:\n",
    "```go\n",
    "R(i) = cost(i, red) + min(G(i-1), B(i-1))\n",
    "G(i) = cost(i, green) + min(R(i-1), B(i-1))\n",
    "B(i) = cost(i, blue) + min(G(i-1), R(i-1))\n",
    "\n",
    "total_cost = min(R(i), G(i), B(i))\n",
    "```\n"
   ]
  },
  {
   "cell_type": "code",
   "execution_count": 6,
   "metadata": {},
   "outputs": [
    {
     "name": "stdout",
     "output_type": "stream",
     "text": [
      "34\n",
      "[1, 0, 2, 0, 2, 1]\n",
      "(46, [1, 0, 2, 0, 2, 0])\n"
     ]
    }
   ],
   "source": [
    "N = 6\n",
    "\n",
    "houses = [[7, 6, 7, 8, 9, 20], #R\n",
    "          [3, 8, 9, 22, 12, 8], #G\n",
    "          [16, 10, 4, 2, 5, 7]] #B\n",
    "\n",
    "cost = [[0] * N,\n",
    "        [0] * N,\n",
    "        [0] * N]\n",
    "\n",
    "cost[0][0] = houses[0][0] #R[0]\n",
    "cost[1][0] = houses[1][0] #G[0]\n",
    "cost[2][0] = houses[2][0] #B[0]\n",
    "\n",
    "# Start at 1st index to compute the `next` cost\n",
    "for i in range(1, N):\n",
    "    # the min cost to paint the first i houses, with the i-th being painted red\n",
    "    cost[0][i] = houses[0][i] + min(cost[1][i-1], cost[2][i-1])\n",
    "\n",
    "    # the min cost to paint the first i houses, with the i-th being painted green\n",
    "    cost[1][i] = houses[1][i] + min(cost[0][i-1], cost[2][i-1])\n",
    "\n",
    "    # the min cost to paint the first i houses, with the i-th being painted blue\n",
    "    cost[2][i] = houses[2][i] + min(cost[0][i-1], cost[1][i-1])\n",
    "\n",
    "# The min cost to paint the first N houses\n",
    "minimized = min(cost[0][5], cost[1][5], cost[2][5])\n",
    "print(minimized)\n",
    "\n",
    "cols = [0] * N\n",
    "i = N-1\n",
    "\n",
    "# Find the color of the last house that minimizes cost, going backwards\n",
    "if cost[0][N-1] <= min(cost[1][N-1], cost[2][N-1]):\n",
    "    cols[N-1] = 0\n",
    "elif cost[1][N-1] <= min(cost[0][N-1], cost[2][N-1]):\n",
    "    cols[N-1] = 1\n",
    "else:\n",
    "    cols[N-1] = 2\n",
    "\n",
    "def loc_min(L: list) -> int:\n",
    "    '''Return the index of the minimum value in the list'''\n",
    "    min_i = 0\n",
    "    cur_min = L[0]\n",
    "    for i in range(1, len(L)):\n",
    "        if L[i] < cur_min:\n",
    "            cur_min = L[i]\n",
    "            min_i = i\n",
    "    return min_i\n",
    "\n",
    "# Extracting the color order of the houses that minimizes cost\n",
    "for i in range(N-2, -1, -1):\n",
    "    cur_min = 10000\n",
    "    cur_min_col = -1\n",
    "    for col in [0, 1, 2]:\n",
    "        if col == cols[i+1]:\n",
    "            continue #If house[i+1] is painted col, can't pick that for house i, skip\n",
    "        if cost[col][i] < cur_min:\n",
    "            cur_min = cost[col][i]\n",
    "            cur_min_col = col\n",
    "    cols[i] = cur_min_col\n",
    "\n",
    "print(cols)\n",
    "\n",
    "''' \n",
    "Solutions dictionary\n",
    "- sol[i][col]: what to paint house i-1 if house i is painted col\n",
    "'''\n",
    "sol = {}\n",
    "for i in range(N):\n",
    "    sol[i] = {}\n",
    "    for col in [0, 1, 2]:\n",
    "        sol[i][col] = -1\n",
    "\n",
    "# Recursive solution\n",
    "i = N-1\n",
    "def paint_house_cost(houses, col, i):\n",
    "    '''\n",
    "    Return the cost of painting houses\n",
    "    0, 1, 2, ..., i, with the i-th houses painted col\n",
    "    and the total cost minimized\n",
    "\n",
    "    Also return the order\n",
    "    '''\n",
    "    if i == 0:\n",
    "        return houses[col][i], [col]\n",
    "\n",
    "    cur_min = sum(sum(costs) for costs in houses)\n",
    "    cur_min_col = -1\n",
    "    for color in [0, 1, 2]:\n",
    "        if color == col:\n",
    "            continue\n",
    "\n",
    "        cost_color_i, cur_soln = paint_house_cost(houses, color, i-1)\n",
    "\n",
    "        if cost_color_i < cur_min:\n",
    "            cur_min = cost_color_i\n",
    "            cur_min_col = color\n",
    "            cur_best_soln = cur_soln\n",
    "\n",
    "        # cur_min = the smaller of the two costs up to i-1 with the two colors that are allowed\n",
    "        # cur_min_col = the color that gives the smaller total cost\n",
    "\n",
    "    sol[i][col] = cur_min_col\n",
    "    # The (i-1)-st house should be painted cur_min_col if the i-th house is painted col\n",
    "    # Return the best solution + the current color for future consideration\n",
    "    return houses[col][i] + cur_min, cur_best_soln + [col]\n",
    "\n",
    "print(paint_house_cost(houses, 0, i))"
   ]
  },
  {
   "cell_type": "markdown",
   "metadata": {},
   "source": [
    "### Problem 2: Making Change\n",
    "\n",
    "- Given a set of coin denominations (i.e. [1, 5, 10, 20, 50, 100] in CAD), and an amount of money, find the way to represent the amount using the least amount of coins\n",
    "    - Ex: consider [1, 4, 5, 10] and try to make 8\n",
    "        - 5 is the largest coin that can be used, but 5+1+1+1 is worse than 4+4"
   ]
  },
  {
   "cell_type": "markdown",
   "metadata": {},
   "source": [
    "### Greedy Algorithm\n",
    "1. Sort the demominations in descending order\n",
    "2. Take as many of the largest denom. coins possible\n",
    "3. Take as many of the 2nd-largest denom. coins possible\n",
    "\n",
    "Ex: [1, 4, 5, 10] -> 8\n",
    "- if 1 used --> make up 7 \n",
    "    - Therefore total amount of coins used = 1 + mincost(7)\n",
    "- if 4 used --> make up 4\n",
    "    - Therefore total amount of coins used = 1 + mincost(4)\n",
    "- if 5 used --> make up 5\n",
    "    - Therefore total amount of coins used = 1 + mincost(5)\n",
    "- if 10 used --> exceeded\n",
    "\n",
    "##### Therefore a general algorithm:\n",
    "```c\n",
    "mincost(t) = 1 + min(mincost(t - d1), mincost(t-d2), ..., mincost(t-dn))\n",
    "```\n",
    "- where:\n",
    "    - `t` = target value/amount to represent with denominations\n",
    "    - `n` = number of denominations in the set"
   ]
  },
  {
   "cell_type": "code",
   "execution_count": 7,
   "metadata": {},
   "outputs": [
    {
     "name": "stdout",
     "output_type": "stream",
     "text": [
      "2\n"
     ]
    }
   ],
   "source": [
    "def mincost(t, denominations):\n",
    "    if t < 0:\n",
    "        return float('inf')\n",
    "    elif t == 0:\n",
    "        return 0;\n",
    "    if t in denominations:\n",
    "        return 1;\n",
    "\n",
    "    current_min = float('inf')\n",
    "    for d in denominations:\n",
    "        current_min = min(current_min, 1 + mincost(t-d, denominations))\n",
    "    \n",
    "    return current_min\n",
    "\n",
    "print(mincost(8, [1,4,5,10]))"
   ]
  }
 ],
 "metadata": {
  "kernelspec": {
   "display_name": "Python 3",
   "language": "python",
   "name": "python3"
  },
  "language_info": {
   "codemirror_mode": {
    "name": "ipython",
    "version": 3
   },
   "file_extension": ".py",
   "mimetype": "text/x-python",
   "name": "python",
   "nbconvert_exporter": "python",
   "pygments_lexer": "ipython3",
   "version": "3.12.5"
  }
 },
 "nbformat": 4,
 "nbformat_minor": 2
}
