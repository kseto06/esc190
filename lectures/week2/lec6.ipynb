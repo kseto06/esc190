{
 "cells": [
  {
   "cell_type": "markdown",
   "metadata": {},
   "source": [
    "## Errors in C (variables)\n",
    "\n",
    "1. Works fine\n",
    "2. Wouldn't compile\n",
    "3. undefined behaviour, might crash at runtime"
   ]
  },
  {
   "cell_type": "code",
   "execution_count": null,
   "metadata": {
    "vscode": {
     "languageId": "c"
    }
   },
   "outputs": [],
   "source": [
    "%%file lec5.c\n",
    "\n",
    "#include <stdio.h>\n",
    "\n",
    "int main() {\n",
    "    const int a = 5;\n",
    "    a = 6; // Wouldn't compile, because it's modifying a const\n",
    "\n",
    "    char *s = \"abc\";\n",
    "    s = \"def\"; //Would compile, modifying the variable\n",
    "\n",
    "    const char *s1 = \"abc\";\n",
    "    s1 = \"def\";\n",
    "    s1[0] = 'x'; //Wouldn't compile, modifying the contents of the variable\n",
    "\n",
    "    const char *const s2 = \"abc\"; //both variable and contents are const, unmodifiable\n",
    "    s2 = \"def\"; // Wouldn't compile, modifying a const\n",
    "\n",
    "    //because const is written second, allowed to modify the contents of s3, but not the variable s3\n",
    "    char *const s3 = \"abc\";\n",
    "    s3 = \"def\"; // Not fine\n",
    "    s3[0] = 'x'; // Fine\n",
    "\n",
    "    return 0;\n",
    "}"
   ]
  },
  {
   "cell_type": "markdown",
   "metadata": {},
   "source": [
    "## printf\n",
    "\n",
    "- printf is a variadic function\n",
    "- formats a string, subtitutes in values according to their types\n",
    "\n",
    "<br>\n",
    "\n",
    "- %d = decimal\n",
    "- %c = character\n",
    "- %s = string\n",
    "- %ld = long decimal\n",
    "- %p = pointer\n",
    "- %f = floating point number"
   ]
  },
  {
   "cell_type": "code",
   "execution_count": null,
   "metadata": {
    "vscode": {
     "languageId": "c"
    }
   },
   "outputs": [],
   "source": [
    "%%file lec5.c\n",
    "\n",
    "#include <stdio.h>\n",
    "\n",
    "int main() {\n",
    "    const char *s1 = \"abc\";\n",
    "\n",
    "    printf(\"%d %c\", 87, 87);\n",
    "    printf(\"%p \", 87);\n",
    "    printf(\"%s\\n\", s1+1); //Address of the first character of the string pointer\n",
    "                          // s1+1 gives the index 1 of the string, thus printing \"b\"\n",
    "    int x = 123;\n",
    "    printf(\"%ld\\n\", &x);\n",
    "    printf(\"s1: %ld\\n, s2: %ld\\n, s3: %ld\\n\", s1, s2, s3); //Prints the address of the string\n",
    "\n",
    "    return 0;\n",
    "}"
   ]
  },
  {
   "cell_type": "markdown",
   "metadata": {},
   "source": [
    "## typedef\n",
    "\n",
    "- typedef = way to give type names \n",
    "- typedef int arr_size;\n",
    "    - arr_size size_of_arr = 15;\n",
    "<br>\n",
    "- useful for redundant/long variable names/declarations"
   ]
  },
  {
   "cell_type": "code",
   "execution_count": null,
   "metadata": {
    "vscode": {
     "languageId": "c"
    }
   },
   "outputs": [
    {
     "name": "stdout",
     "output_type": "stream",
     "text": [
      "Overwriting lec6.c\n"
     ]
    }
   ],
   "source": [
    "%%file lec6.c\n",
    "\n",
    "#include <stdio.h>\n",
    "\n",
    "typedef int arr_size;\n",
    "\n",
    "void print_array(int *arr, arr_size sz) {\n",
    "    for (int i = 0; i < sz; i++) {\n",
    "        printf(\"%d \", arr[i]);\n",
    "    }\n",
    "}\n",
    "\n",
    "int main() {\n",
    "    int arr[] = {5, 6, 7};\n",
    "    arr_size sz = 3;\n",
    "    print_array(arr, sz);\n",
    "    return 0;\n",
    "}"
   ]
  },
  {
   "cell_type": "code",
   "execution_count": 6,
   "metadata": {},
   "outputs": [
    {
     "name": "stdout",
     "output_type": "stream",
     "text": [
      "5 6 7 "
     ]
    }
   ],
   "source": [
    "%%bash\n",
    "gcc lec6.c -g -o lec6\n",
    "./lec6"
   ]
  },
  {
   "cell_type": "markdown",
   "metadata": {},
   "source": [
    "## Compound data structures\n",
    "\n",
    "- Want to store several values that relate to the same object\n",
    "    - Ex: ACORN needs name, student number, GPA\n",
    "\n",
    "use `struct` keyword"
   ]
  },
  {
   "cell_type": "code",
   "execution_count": null,
   "metadata": {},
   "outputs": [],
   "source": [
    "%%file lec6.c\n",
    "\n",
    "struct student {\n",
    "    char name[200]; \n",
    "    char number[11]; //11 digit number\n",
    "    double GPA;\n",
    "}\n",
    "\n",
    "int main() {\n",
    "    //Access fields of a struct using '.'\n",
    "    struct student s1 = {\"John Doe\", \"1234567890\", 3.3}\n",
    "    printf(\"%s %f\\n\", s1.name, s1.GPA)\n",
    "}"
   ]
  },
  {
   "cell_type": "markdown",
   "metadata": {},
   "source": [
    "### `structs` and `typedefs` can be combined\n",
    "\n",
    "- Can avoid having to repeat `struct`"
   ]
  },
  {
   "cell_type": "code",
   "execution_count": null,
   "metadata": {},
   "outputs": [],
   "source": [
    "%%file lec6.c\n",
    "\n",
    "typedef struct student {\n",
    "    char name[200]; \n",
    "    char number[11]; //11 digit number\n",
    "    double GPA;\n",
    "} student;\n",
    "\n",
    "int main() {\n",
    "    student s1 = {\"John Doe\", \"1234567890\", 3.3}\n",
    "    printf(\"%s %f\\n\", s1.name, s1.GPA)\n",
    "}"
   ]
  },
  {
   "cell_type": "markdown",
   "metadata": {},
   "source": [
    "### Pointers to structs:\n",
    "\n",
    "- Pointers will access and produce the same variables as the declared\n",
    "- More usual way to do it is using `->`\n",
    "- Remember; think about pointers as GLOBAL (functions can change variables using pointers) and variable itself as LOCAL. "
   ]
  },
  {
   "cell_type": "code",
   "execution_count": 13,
   "metadata": {},
   "outputs": [
    {
     "name": "stdout",
     "output_type": "stream",
     "text": [
      "Overwriting lec6.c\n"
     ]
    }
   ],
   "source": [
    "%%file lec6.c\n",
    "\n",
    "#include <stdio.h>\n",
    "\n",
    "typedef struct student {\n",
    "    char name[200]; \n",
    "    char number[11]; //11 digit number\n",
    "    double GPA;\n",
    "} student;\n",
    "\n",
    "int main() {\n",
    "    student s1 = {\"John Doe\", \"1234567890\", 3.3};\n",
    "    printf(\"%s %f\\n\", s1.name, s1.GPA);\n",
    "    student *p_s1 = &s1;\n",
    "    printf(\"%s %f\\n\", (*p_s1).name, (*p_s1).GPA); //same\n",
    "    printf(\"%s %f\\n\", p_s1->name, p_s1->GPA);\n",
    "}"
   ]
  },
  {
   "cell_type": "code",
   "execution_count": 14,
   "metadata": {},
   "outputs": [
    {
     "name": "stdout",
     "output_type": "stream",
     "text": [
      "John Doe 3.300000\n",
      "John Doe 3.300000\n",
      "John Doe 3.300000\n"
     ]
    }
   ],
   "source": [
    "%%bash\n",
    "gcc lec6.c -g -o lec6\n",
    "./lec6"
   ]
  },
  {
   "cell_type": "markdown",
   "metadata": {},
   "source": [
    "## List pointers:\n",
    "- Can change the indices, which are array pointers\n",
    "- Can't change the array itself"
   ]
  },
  {
   "cell_type": "code",
   "execution_count": 19,
   "metadata": {},
   "outputs": [
    {
     "name": "stdout",
     "output_type": "stream",
     "text": [
      "Overwriting lec6.c\n"
     ]
    }
   ],
   "source": [
    "%%file lec6.c\n",
    "\n",
    "#include <stdio.h>\n",
    "\n",
    "void change_arr(int *arr) {\n",
    "    arr[0] = 3;\n",
    "    arr[1] = 4;\n",
    "}\n",
    "\n",
    "void dont_change_arr(int *arr) {\n",
    "    arr = 0;\n",
    "}\n",
    "\n",
    "int main() {\n",
    "    int arr[] = {5, 6, 7};\n",
    "    change_arr(arr);\n",
    "    printf(\"%d\\n%d\\n\", arr[0], arr[1]);\n",
    "    dont_change_arr(arr);\n",
    "    return 0;\n",
    "}"
   ]
  },
  {
   "cell_type": "code",
   "execution_count": 20,
   "metadata": {},
   "outputs": [
    {
     "name": "stdout",
     "output_type": "stream",
     "text": [
      "3\n",
      "4\n"
     ]
    }
   ],
   "source": [
    "%%bash\n",
    "gcc lec6.c -g -o lec6\n",
    "./lec6"
   ]
  },
  {
   "cell_type": "markdown",
   "metadata": {},
   "source": [
    "## String pointers"
   ]
  },
  {
   "cell_type": "code",
   "execution_count": null,
   "metadata": {},
   "outputs": [],
   "source": [
    "%%file lec6.c\n",
    "\n",
    "#include <stdio.h>\n",
    "void change_s(const char *s) {\n",
    "    s[0] = 'x'; //Compilation error due to const\n",
    "}\n",
    "\n",
    "void dont_change_arr(const char* arr) {\n",
    "    arr = 0; //Can't change global\n",
    "}\n",
    "\n",
    "\n",
    "void change_str(char *s) {\n",
    "    s[0] = 'x'; //no compilation error, but may crash if s is actually const\n",
    "}\n",
    "\n",
    "int main() {\n",
    "    char *s1 = \"abc\";\n",
    "    change_str(s1); //May cause crash\n",
    "\n",
    "    char s2[] = \"abc\";\n",
    "    change_str(s2); // OK \n",
    "}"
   ]
  }
 ],
 "metadata": {
  "kernelspec": {
   "display_name": "Python 3",
   "language": "python",
   "name": "python3"
  },
  "language_info": {
   "codemirror_mode": {
    "name": "ipython",
    "version": 3
   },
   "file_extension": ".py",
   "mimetype": "text/x-python",
   "name": "python",
   "nbconvert_exporter": "python",
   "pygments_lexer": "ipython3",
   "version": "3.12.5"
  }
 },
 "nbformat": 4,
 "nbformat_minor": 2
}
