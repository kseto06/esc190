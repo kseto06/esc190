{
 "cells": [
  {
   "cell_type": "markdown",
   "metadata": {},
   "source": [
    "## Example 1 -- Change address of int\n",
    "\n",
    "Address is global, but p_a input is local"
   ]
  },
  {
   "cell_type": "code",
   "execution_count": 16,
   "metadata": {},
   "outputs": [
    {
     "name": "stdout",
     "output_type": "stream",
     "text": [
      "Overwriting lec4.c\n"
     ]
    }
   ],
   "source": [
    "%%file lec4.c\n",
    "#include <stdio.h>\n",
    "\n",
    "void change_a(int *p_a, int num) {\n",
    "    *p_a = num;\n",
    "}\n",
    "\n",
    "void dont_change_a(int a) {\n",
    "    a = 45\n",
    "}\n",
    "\n",
    "int main() {\n",
    "    int a = 42;\n",
    "    change_a(&a, 45);\n",
    "    printf(\"%d\\n\", a);\n",
    "    return 0;\n",
    "}"
   ]
  },
  {
   "cell_type": "code",
   "execution_count": 17,
   "metadata": {},
   "outputs": [
    {
     "name": "stdout",
     "output_type": "stream",
     "text": [
      "45\n"
     ]
    }
   ],
   "source": [
    "%%bash\n",
    "gcc lec4.c -g -o lec4\n",
    "./lec4"
   ]
  },
  {
   "cell_type": "markdown",
   "metadata": {},
   "source": [
    "## Example 2 -- change address of array 1st element (arr[0])"
   ]
  },
  {
   "cell_type": "code",
   "execution_count": 32,
   "metadata": {},
   "outputs": [
    {
     "name": "stdout",
     "output_type": "stream",
     "text": [
      "Overwriting lec4.c\n"
     ]
    }
   ],
   "source": [
    "%%file lec4.c\n",
    "#include <stdio.h>\n",
    "\n",
    "void change_a(int *p_a, int num) {\n",
    "    *p_a = num;\n",
    "}\n",
    "\n",
    "int main() {\n",
    "    int a[3] = {5, 6, 7};\n",
    "    change_a(a, 45);\n",
    "    \n",
    "    for (int i = 0; i < 3; i++) {\n",
    "        printf(\"%d\", a[i]);\n",
    "        printf(\" \");\n",
    "    }\n",
    "\n",
    "    return 0;\n",
    "}"
   ]
  },
  {
   "cell_type": "code",
   "execution_count": 33,
   "metadata": {},
   "outputs": [
    {
     "name": "stdout",
     "output_type": "stream",
     "text": [
      "45 6 7 "
     ]
    }
   ],
   "source": [
    "%%bash\n",
    "gcc lec4.c -g -o lec4\n",
    "./lec4"
   ]
  }
 ],
 "metadata": {
  "kernelspec": {
   "display_name": "Python 3",
   "language": "python",
   "name": "python3"
  },
  "language_info": {
   "codemirror_mode": {
    "name": "ipython",
    "version": 3
   },
   "file_extension": ".py",
   "mimetype": "text/x-python",
   "name": "python",
   "nbconvert_exporter": "python",
   "pygments_lexer": "ipython3",
   "version": "3.12.5"
  }
 },
 "nbformat": 4,
 "nbformat_minor": 2
}
