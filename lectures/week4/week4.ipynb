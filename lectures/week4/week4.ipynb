{
 "cells": [
  {
   "cell_type": "markdown",
   "metadata": {},
   "source": [
    "## Review of Strings"
   ]
  },
  {
   "cell_type": "code",
   "execution_count": null,
   "metadata": {},
   "outputs": [],
   "source": [
    "%%file week4.c\n",
    "\n",
    "#include <stdio.h>\n",
    "#include <stdlib.h>\n",
    "\n",
    "int main() {\n",
    "    char *name;\n",
    "    strcpy(name, \"Alice\"); //Bad: name is not a valid address\n",
    "\n",
    "    name = (char *)malloc(100*sizeof(char));\n",
    "    strcpy(name, \"Alice\"); //Ok now, malloc gave valid address\n",
    "\n",
    "    name[0] = 'a'; //fine\n",
    "\n",
    "    name = \"Alice\"; //Ok, but cannot modify name[0]; If we didn't free name, there is memory leak\n",
    "    name[0] = 'a'; //Could crash\n",
    "\n",
    "    char name[200] = \"Bob\";\n",
    "    strcpy(name, \"Alice\"); //Fine because there are 200 spaces in name\n",
    "    //name = \"Alice\"; //Bad, can't reassign to arrays\n",
    "\n",
    "    name[0] = 'a'; //OK\n",
    "}"
   ]
  },
  {
   "cell_type": "markdown",
   "metadata": {},
   "source": [
    "## Strings in Structs"
   ]
  },
  {
   "cell_type": "code",
   "execution_count": null,
   "metadata": {},
   "outputs": [],
   "source": [
    "%%file week4.c\n",
    "\n",
    "typedef struct student1 {\n",
    "    char *name; //Store the addr where the name is stored\n",
    "    double gpa;\n",
    "} student1; //Need to allocate name for each student\n",
    "\n",
    "typedef struct student2 {\n",
    "    char name[200]; //Store 200 chars\n",
    "    double gpa;\n",
    "} student2; //Do not need to allocate name for each student\n",
    "\n",
    "student1 make_student1(char *name, double gpa) {\n",
    "    student1 s1;\n",
    "    s1.name = name;\n",
    "    s1.gpa = gpa;\n",
    "    return s1\n",
    "}\n",
    "\n",
    "int main() {\n",
    "    student1 s1 = make_student1(\"Mike\", 3.7);\n",
    "    printf(\"Name: %s\\n\", s1.name);\n",
    "    //Note: CANNOT DO s1.name[0] = 'm', \"Mike\" is read-only\n",
    "}"
   ]
  },
  {
   "cell_type": "markdown",
   "metadata": {},
   "source": [
    "You could also do: "
   ]
  },
  {
   "cell_type": "code",
   "execution_count": null,
   "metadata": {},
   "outputs": [],
   "source": [
    "student1 make_student1_new(char *name, double gpa) {\n",
    "    student1 s1;\n",
    "    s1.name = (char *)malloc(strlen(name)+1);\n",
    "    strcpy(s1.name, name);\n",
    "    s1.gpa = gpa;\n",
    "    return s1\n",
    "}"
   ]
  },
  {
   "cell_type": "markdown",
   "metadata": {},
   "source": [
    "and now it is possible to modify s1.name's contents in the main() function since there is new allocated memory."
   ]
  },
  {
   "cell_type": "markdown",
   "metadata": {},
   "source": [
    "For student 2:\n",
    "<br>\n",
    "<br>\n",
    "We don't run into the memory issue since the memory is allocated at char array initialization."
   ]
  },
  {
   "cell_type": "code",
   "execution_count": null,
   "metadata": {},
   "outputs": [],
   "source": [
    "typedef struct student2 {\n",
    "    char name[200]; //Store 200 chars\n",
    "    double gpa;\n",
    "} student2; //Do not need to allocate name for each student\n",
    "\n",
    "student2 make_student1(char *name, double gpa) {\n",
    "    student2 s2;\n",
    "    strcpy(s2.name, name);\n",
    "    s2.gpa = gpa;\n",
    "}"
   ]
  },
  {
   "cell_type": "markdown",
   "metadata": {},
   "source": [
    "### Example Handout: Basic Pointers\n",
    "- No variable table like Python, just a memory table"
   ]
  },
  {
   "cell_type": "code",
   "execution_count": null,
   "metadata": {},
   "outputs": [],
   "source": [
    "%%file week4.c\n",
    "\n",
    "#include <stdio.h>\n",
    "\n",
    "void f(int *p_a) {\n",
    "    *p_a = 5; // 2) a = 5\n",
    "    return 3;// 3) a = 3\n",
    "}\n",
    "\n",
    "int main() {\n",
    "    int a = 15; //1) a = 15\n",
    "    a = f(&a); //Therefore, a = 3 (local to main)\n",
    "}"
   ]
  },
  {
   "cell_type": "code",
   "execution_count": null,
   "metadata": {},
   "outputs": [],
   "source": [
    "%%file week4.c\n",
    "\n",
    "#include <stdio.h>\n",
    "\n",
    "void f(int *p_a) {\n",
    "    p_a = malloc(sizeof(int) * 10)\n",
    "    return 3;\n",
    "}\n",
    "\n",
    "int main() {\n",
    "    int a = 15; \n",
    "    a = f(&a);\n",
    "}\n",
    "\n",
    "// a = 15 => f(&a) => p_a = 10 new int sizes => a = 3(local to main)\n",
    "// Therefore a = 3"
   ]
  },
  {
   "cell_type": "markdown",
   "metadata": {},
   "source": [
    "## Block of Structs"
   ]
  },
  {
   "cell_type": "code",
   "execution_count": null,
   "metadata": {},
   "outputs": [],
   "source": [
    "%%file week4.case\n",
    "\n",
    "typedef struct student {\n",
    "    char name[200];\n",
    "    double gpa;\n",
    "} student;\n",
    "\n",
    "typedef struct student2 {\n",
    "    char *name;\n",
    "    double gpa;\n",
    "} student2;\n",
    "\n",
    "int main() {\n",
    "    student s1 = {\"Mike\", 4.8};\n",
    "    strcpy(s1.name, \"Alice\");\n",
    "\n",
    "    //Can now have an array of students:\n",
    "    student students[200];\n",
    "    strcpy(students[5].name, \"Bob\");\n",
    "\n",
    "    student2 student2s[200];\n",
    "    // strcpy(student2s[5].name, \"Bob\"); --> Can't do directly because this index is not a valid addr\n",
    "\n",
    "    //Can do:\n",
    "    student2s[5].name = (char *)malloc(200*sizeof(char));\n",
    "    strcpy(student2s[5].name, \"Bob\"); //Fine\n",
    "}\n"
   ]
  },
  {
   "cell_type": "markdown",
   "metadata": {},
   "source": [
    "It is also possible to make the block of students using a malloc of students in a function:"
   ]
  },
  {
   "cell_type": "code",
   "execution_count": null,
   "metadata": {},
   "outputs": [],
   "source": [
    "%%file week4.c\n",
    "\n",
    "#include <stdlib.h>\n",
    "\n",
    "student2* make_student2_block(int n) {\n",
    "    student2 *students = (student *)malloc(sizeof(student2)*n);\n",
    "    for (int i = 0; i < n; i++) {\n",
    "        students[i].name = (char *)malloc(2000 * sizeof(char));\n",
    "    }\n",
    "    return students\n",
    "}\n",
    "\n",
    "void destroy_students(student2* students, int n) { //Student2* = pointer to array of student2s\n",
    "    for (int i = 0; i < n; i++) {\n",
    "        free(students[i].name); //Free each allocated name memory first\n",
    "    }\n",
    "    //Then free the entire array:\n",
    "    free(students);\n",
    "}"
   ]
  },
  {
   "cell_type": "markdown",
   "metadata": {},
   "source": [
    "## realloc\n",
    "\n",
    "- Can resize blocks of memory using realloc"
   ]
  },
  {
   "cell_type": "code",
   "execution_count": null,
   "metadata": {},
   "outputs": [],
   "source": [
    "%%file week4.c\n",
    "\n",
    "#include <stdlib.h>\n",
    "\n",
    "char *str = (char *)malloc(100*sizeof(char));\n",
    "// Want to make more space\n",
    "str = (char *)realloc(str, 200 * sizeof(char));"
   ]
  },
  {
   "cell_type": "markdown",
   "metadata": {},
   "source": [
    "### Error checking\n",
    "- malloc and realloc might not be able to find the amount of space you need\n",
    "\n",
    "## exit()\n",
    "- Unclear what to do otherwise -- trying to access a NULL pointer will lead to a crash without an error msg\n",
    "- But MS word might just display an error msg, refuse to do what you asked it to (e.g open a huge doc), and continue running\n",
    "- exit() aims to just crash as gracefully as possible"
   ]
  },
  {
   "cell_type": "code",
   "execution_count": null,
   "metadata": {},
   "outputs": [],
   "source": [
    "%%file week4.c\n",
    "\n",
    "#include <stdlib.h>\n",
    "\n",
    "char *block = malloc(100000000);\n",
    "if (block == NULL) {\n",
    "    printf(\"Out of memory\\n\");\n",
    "    exit(1); //exit terminates the program, the 1 is sent to operating system\n",
    "}"
   ]
  },
  {
   "cell_type": "markdown",
   "metadata": {},
   "source": [
    "## create_str"
   ]
  },
  {
   "cell_type": "code",
   "execution_count": null,
   "metadata": {},
   "outputs": [],
   "source": [
    "%%file week4.c\n",
    "\n",
    "#include <stdlib.h>\n",
    "\n",
    "void create_str(char **p_str, int sz) {\n",
    "   *p_str = (char *)malloc(sz * sizeof(char)); //Init *p_str using the address **p_str\n",
    "                                               // The pointer to str now has a value\n",
    "   if (*p_str == NULL){\n",
    "       printf(\"Could not create string\\n\");\n",
    "       exit(1);\n",
    "  }\n",
    "  (*p_str)[0] = '\\0'; //Init *p_str with Null terminator\n",
    "}\n",
    "\n",
    "int main() {\n",
    "    char *str;\n",
    "    /* \n",
    "    - Make str be the address of the 1st element of a string\n",
    "    - HAVE to send in &str to be able to change the value of str\n",
    "    - If want to change str[0], could just pass str.\n",
    "    */\n",
    "    create_str(&str, 100); \n",
    "    strcpy(str, \"Mike\"); \n",
    "    return 0;\n",
    "}"
   ]
  },
  {
   "cell_type": "markdown",
   "metadata": {},
   "source": [
    "## strcat\n",
    "- strcat(str1, str2) concatenates str1 and str2, assuming that str1 has enough space to accommodate extra characters from str2\n",
    "- Will crash if not enough space: it does not check\n",
    "- Again: C prioritizes efficiency, won't stop you from shooting yourself in the foot\n"
   ]
  },
  {
   "cell_type": "code",
   "execution_count": null,
   "metadata": {},
   "outputs": [],
   "source": [
    "%%file week4.c\n",
    "\n",
    "char* strcat(char* str1, char* str2) {\n",
    "    int i = 0;\n",
    "    while (str1[i] != NULL) {\n",
    "        i++;\n",
    "    }\n",
    "    //str1[i] here will now be null, can write contents of str2 to the end of str1\n",
    "    int j = 0;\n",
    "    while (str2[j] != NULL) {\n",
    "        str1[i] = str2[j];\n",
    "        i++;\n",
    "        j++;\n",
    "    }\n",
    "    str1[i] = NULL; //Add back the NULL pointer to the string\n",
    "    return str1;\n",
    "}"
   ]
  },
  {
   "cell_type": "markdown",
   "metadata": {},
   "source": [
    "## ++\n",
    "int a = 42;\n",
    "<br>\n",
    "<br>\n",
    "int b = a++;\n",
    "- The value of a++ is the old value of a\n",
    "- The effect of a++ is to increment a by 1\n",
    "- The value of b is now 42, the value of a is 43\n",
    "\n",
    "int c = ++b;\n",
    "- The value of ++b is the new value of b (i.e. b+1)\n",
    "- The effect of ++b is to increment b by 1\n",
    "- The value of b and c is now 42\n",
    "\n",
    "This can be used to work with pointers"
   ]
  },
  {
   "cell_type": "code",
   "execution_count": null,
   "metadata": {},
   "outputs": [],
   "source": [
    "%%file week4.c\n",
    "\n",
    "int main() {\n",
    "    char *str = \"abc\";\n",
    "    str++; //Pointer now at str[0] --> str[1] \n",
    "    printf(\"%s\\n\", str); // This will print \"bc\"\n",
    "    printf(\"%c\\n\", *str); // This will print 'b'\n",
    "    printf(\"%c\\n\", *str++); //This will print 'b' -- *str was not incremented yet\n",
    "                            //However, if it was ++*str, then it would be 'c'\n",
    "    return 0;\n",
    "}"
   ]
  },
  {
   "cell_type": "code",
   "execution_count": null,
   "metadata": {},
   "outputs": [],
   "source": [
    "%%file week4.c\n",
    "\n",
    "char* my_strcpy2(char* dest, const char* src) {\n",
    "    //Keep doing: dest[0]=src[0]\n",
    "    //Keep incrementing both by 1 simultaneously\n",
    "\n",
    "    char* dest_start = dest;\n",
    "    while(*src != '\\0') {\n",
    "        *dest++ = *src++; \n",
    "        printf(\"dest: %ld, src: %ld\\n\", dest, src);\n",
    "    }\n",
    "    *dest = *src; //Copy the line where *src = NULL\n",
    "    return dest_start;\n",
    "}"
   ]
  },
  {
   "cell_type": "markdown",
   "metadata": {},
   "source": [
    "## strcpy and strcat with pointer arithemtic:\n",
    "- *str2 = *str1 (copies the value from addr str1 to addr str2)\n",
    "- *str2++ = *str1++ copies values and then increments addresses"
   ]
  },
  {
   "cell_type": "code",
   "execution_count": 1,
   "metadata": {},
   "outputs": [
    {
     "name": "stdout",
     "output_type": "stream",
     "text": [
      "Overwriting week4.c\n"
     ]
    }
   ],
   "source": [
    "%%file week4.c\n",
    "\n",
    "char* strcpy(char* dest, const char* src) {\n",
    "    while(*src = NULL) {\n",
    "        *dest = *src;\n",
    "        dest++;\n",
    "        src++;\n",
    "    }\n",
    "    *dest = NULL;\n",
    "    return dest;\n",
    "}\n",
    "\n",
    "char* strcpy_increment(char* dest, const char* src) {\n",
    "    //Keep doing: dest[0]=src[0]\n",
    "    //Keep incrementing both by 1 simultaneously\n",
    "\n",
    "    char* dest_start = dest;\n",
    "    while(*src != '\\0') {\n",
    "        *dest++ = *src++; \n",
    "        printf(\"dest: %ld, src: %ld\\n\", dest, src);\n",
    "    }\n",
    "    *dest = *src; //Copy the line where *src = NULL\n",
    "    return dest_start;\n",
    "}\n",
    "\n",
    "int main() {\n",
    "    char name1[] = \"Mike\";\n",
    "    char name2[1000];\n",
    "    strcpy_increment(name2, name1);\n",
    "    printf(\"Result: %s\\n\", name2);\n",
    "}"
   ]
  },
  {
   "cell_type": "code",
   "execution_count": null,
   "metadata": {},
   "outputs": [],
   "source": [
    "%%file week4.c\n",
    "\n",
    "char* my_strcat(char *dest, const char *src) {\n",
    "    /*\n",
    "    Plan: increment dest while it's not '\\0'\n",
    "    Once there, just do strcpy(dest, src)\n",
    "    */\n",
    "    while(*src++); //Continue to increment the pointer\n",
    "    strcpy_increment(dest, src);\n",
    "}"
   ]
  },
  {
   "cell_type": "markdown",
   "metadata": {},
   "source": [
    "## Review: Strings in Structs"
   ]
  },
  {
   "cell_type": "code",
   "execution_count": null,
   "metadata": {},
   "outputs": [],
   "source": [
    "%%file week4.c\n",
    "\n",
    "#include <stdlib.h>\n",
    "\n",
    "struct student1 {\n",
    "    char name[200];\n",
    "    double gpa;\n",
    "};\n",
    "\n",
    "struct student2 {\n",
    "    char *name;\n",
    "    double gpa;\n",
    "};\n",
    "\n",
    "void create_student1(struct student1 **p_p_s1, const char *name, double gpa) {\n",
    "    //Allocate memory for [0] element of a student1 array\n",
    "    *p_p_s1 = (struct student1*)malloc(sizeof(struct student1));\n",
    "    strcpy((*p_p_s1)->name, name);\n",
    "    (*p_p_s1)->gpa = gpa;\n",
    "}\n",
    "\n",
    "void create_student2(struct student2 **p_p_s1, const char *name, double gpa) {\n",
    "    *p_p_s1 = (struct student2*)malloc(sizeof(struct student2));\n",
    "    /*\n",
    "    - Problem: (*p_p_s1)->name is not initialized (some random number)\n",
    "               cannot write to the random address (*name does not have allocated memory)\n",
    "    - Not a problem: (*p_p_s1)->gpa is not initialized (some random number)\n",
    "        `      we are allowed to write from local int -> struct int\n",
    "    */\n",
    "    strcpy((*p_p_s1)->name, name);\n",
    "    (*p_p_s1)->gpa = gpa;\n",
    "}\n",
    "\n",
    "void create_student2_fixed(struct student2 **p_p_s1, const char *name, double gpa) {\n",
    "    *p_p_s1 = (struct student2*)malloc(sizeof(struct student2));\n",
    "    \n",
    "    //Fix: allocate string memory for the names\n",
    "    (*p_p_s1)->name = (char*)malloc(sizeof(char) * (strlen(name)+1));\n",
    "    strcpy((*p_p_s1)->name, name);\n",
    "    (*p_p_s1)->gpa = gpa;\n",
    "}\n",
    "\n",
    "int main() {\n",
    "    struct student1 *p_s1; //p_s1 -> name. struct student1* = struct student1[]\n",
    "    create_student1(&p_s1);\n",
    "}"
   ]
  },
  {
   "cell_type": "markdown",
   "metadata": {},
   "source": [
    "#### Dynamically creating a new array of students:"
   ]
  },
  {
   "cell_type": "code",
   "execution_count": null,
   "metadata": {},
   "outputs": [],
   "source": [
    "%%file week4.c\n",
    "\n",
    "#include <stdlib.h>\n",
    "\n",
    "struct student2 {\n",
    "    char *name;\n",
    "    double gpa;\n",
    "};\n",
    "\n",
    "void create_student2_block(struct student2 **p_p_s1, int n_students) {\n",
    "    *p_p_s1 = (struct student2*)malloc(sizeof(struct student2) * n_students);\n",
    "    for (int i = 0; i < n_students; i++) {\n",
    "        (*p_p_s1)[i].name = (char*)malloc(sizeof(char)*200);\n",
    "    }\n",
    "}"
   ]
  }
 ],
 "metadata": {
  "kernelspec": {
   "display_name": "Python 3",
   "language": "python",
   "name": "python3"
  },
  "language_info": {
   "codemirror_mode": {
    "name": "ipython",
    "version": 3
   },
   "file_extension": ".py",
   "mimetype": "text/x-python",
   "name": "python",
   "nbconvert_exporter": "python",
   "pygments_lexer": "ipython3",
   "version": "3.12.5"
  }
 },
 "nbformat": 4,
 "nbformat_minor": 2
}
