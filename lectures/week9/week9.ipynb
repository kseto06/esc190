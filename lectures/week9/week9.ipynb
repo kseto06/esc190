{
 "cells": [
  {
   "cell_type": "markdown",
   "metadata": {},
   "source": [
    "## Min-Priority Queue ADT\n",
    "\n",
    "- A queue where each element has a *priority*\n",
    "- Operations:\n",
    "    - `enqueue(elem, priority)`: insert elem with a given priority\n",
    "    - `find_min`: return the element with the smallest priority\n",
    "    - `extract_min`: remove the element with the smallest priority and return it\n",
    "\n",
    "- Example usage: assign lower numbers to patients in the emergency room who need to be seen sooner"
   ]
  },
  {
   "cell_type": "code",
   "execution_count": 1,
   "metadata": {},
   "outputs": [
    {
     "name": "stdout",
     "output_type": "stream",
     "text": [
      "Alice\n",
      "Bob\n"
     ]
    }
   ],
   "source": [
    "class PriorityQueue:\n",
    "    def __init__(self):\n",
    "        self.queue = []\n",
    "\n",
    "    def insert(self, data, priority):\n",
    "        self.queue.append((data, priority))\n",
    "\n",
    "    def extract_min(self):\n",
    "        min_idx = 0\n",
    "        for i in range(len(self.queue)):\n",
    "            if self.queue[i][1] < self.queue[min_idx][1]:\n",
    "                min_idx = i\n",
    "\n",
    "        return self.queue.pop(min_idx)[0]\n",
    "    \n",
    "if __name__ == '__main__':\n",
    "    pq = PriorityQueue()\n",
    "    pq.insert(\"Mike\" , 3)\n",
    "    pq.insert(\"Bob\", 2)\n",
    "    pq.insert(\"Alice\", 1)\n",
    "    pq.insert(\"Eve\", 5)\n",
    "\n",
    "    print(pq.extract_min()) # Alice\n",
    "    print(pq.extract_min()) # Bob"
   ]
  },
  {
   "cell_type": "markdown",
   "metadata": {},
   "source": [
    "## Shortest Paths\n",
    "\n",
    "- Given a weighted connected graph `G = (V, E)` and a pair of vertices `V`<sub>`s`</sub>, `V`<sub>`d`</sub> `∈ V`, what is the shortest path between `V`<sub>`s`</sub> and `V`<sub>`d`</sub>?\n",
    "    - Path with the smallest sum of edge weights\n",
    "\n",
    "<img src=\"assets/intro.png\"></img>"
   ]
  },
  {
   "cell_type": "markdown",
   "metadata": {},
   "source": [
    "### Approach\n",
    "- Shortest path (SP) from A to H = SP from A to E + SP from E to H\n",
    "- SP from A to H = `min`<sub>`i`</sub>`(SP from A to V`<sub>`i`</sub> + `SP from V`<sub>`i`</sub> `to H)`\n",
    "\n",
    "<img src=\"assets/approach.png\"></img>"
   ]
  },
  {
   "cell_type": "markdown",
   "metadata": {},
   "source": [
    "## Dijkstra's Algorithm\n",
    "\n",
    "```python\n",
    "Dijkstra(G = (V, E), source):\n",
    "    S = {source} # S is the set of explored nodes\n",
    "    d = {source} = 0 # d(v) is the shortest path from source to v\n",
    "\n",
    "\n",
    "    while S != V:\n",
    "        Choose v ∈ V s.t. d(u) + |(u, v)| is minimized, (u ∈ S)\n",
    "        Add v to S, set d(v) = d(u) + |(u, v)|\n",
    "```\n",
    "\n",
    "<img src=\"assets/djikstra.png\">\n",
    "\n",
    "### Djikstra Complexity\n",
    "- Depends on the implementation details\n",
    "- Simplest implementation\n",
    "    - To add one vertex to S, search through all possible additional vertices\n",
    "    - `O(|V|`<sup>`2`</sup>`)`\n",
    "\n",
    "- Fancier implementation\n",
    "    - Add potential v’s to a priority queue as S grows\n",
    "    - `O((|E|)log|V|)`\n",
    "\n",
    "### Recovering the path:\n",
    "\n",
    "```python\n",
    "Dijkstra(G = (V, E), source):\n",
    "    S = {source} # S is the set of explored nodes\n",
    "    d = {source} = 0 # d(v) is the shortest path from source to v\n",
    "\n",
    "\n",
    "    while S != V:\n",
    "        Choose v ∈ V s.t. d(u) + |(u, v)| is minimized, (u ∈ S)\n",
    "        Add v to S, set d(v) = d(u) + |(u, v)|\n",
    "        prev(v) = u #Add this line here to recover the path -- record u as the node\n",
    "```"
   ]
  },
  {
   "cell_type": "markdown",
   "metadata": {},
   "source": [
    "### Idea:\n",
    "- Maintain the distances from `S`to neighbours to `S`\n",
    "- When we add a vertex `v` to `S`, only need to compute the distances of neighbours `v` to `S`\n",
    "- Maintain a priority queue with the closest neighbour of `S` at the top"
   ]
  },
  {
   "cell_type": "markdown",
   "metadata": {},
   "source": [
    "### Inefficient Implementation:"
   ]
  },
  {
   "cell_type": "code",
   "execution_count": null,
   "metadata": {},
   "outputs": [],
   "source": [
    "'''\n",
    "Example based on graph above\n",
    "\n",
    "Visited nodes: S = {A, C, B, E, D, G, F}\n",
    "\n",
    "d(A) = 0\n",
    "d(C) = 1\n",
    "d(B) = 2\n",
    "d(E) = 3\n",
    "d(D) = 6\n",
    "d(G) = 8\n",
    "d(F) = 10\n",
    "d(H) = 15\n",
    "'''\n",
    "import numpy as np\n",
    "\n",
    "class Node:\n",
    "    def __init__(self, value):\n",
    "        self.value = value\n",
    "        self.connections = []\n",
    "        self.distance_from_start = np.inf\n",
    "\n",
    "class Connection:\n",
    "    def __init__(self, node: Node, weight: float):\n",
    "        self.node = node\n",
    "        self.weight = weight\n",
    "\n",
    "def Dijkstra(start, end):\n",
    "    start.distance_from_start = 0\n",
    "    visited = set([start])\n",
    "    current = start \n",
    "    \n",
    "    while current != end:\n",
    "        cur_dist = np.inf\n",
    "        cur_v = None\n",
    "        for node in visited:\n",
    "            for connection in node.connections:\n",
    "                if connection.node in visited:\n",
    "                    continue\n",
    "                if cur_dist > node.distance_from_start + connection.weight:\n",
    "                    cur_dist = node.distance_from_start + connection.weight\n",
    "                    cur_v = connection.node\n",
    "\n",
    "        current = cur_v\n",
    "        current.distance_from_start = cur_dist\n",
    "        visited.add(current)\n",
    "    \n",
    "    return current.distance_from_start"
   ]
  },
  {
   "cell_type": "markdown",
   "metadata": {},
   "source": [
    "### Priority Queue Implementation of Djikstra:\n",
    "\n",
    "http://youtube.com/watch?v=LmITN-wfn0w"
   ]
  },
  {
   "cell_type": "markdown",
   "metadata": {},
   "source": [
    "```python\n",
    "\n",
    "Dijkstra(G = (V, E), source)\n",
    "    S = {} # S is the set of explored nodes\n",
    "    pq = (0, source)\n",
    "    while pq is not empty:\n",
    "        if current_node in S:\n",
    "            continue\n",
    "\n",
    "        current_distance, current_node = pq.pop()\n",
    "        d(current_node) = current_distance\n",
    "        add current_node to S\n",
    "        for each neighbour v of current_node:\n",
    "            pq.push((current_distance + |(v, current_distance)|, v))\n",
    "\n",
    "```"
   ]
  },
  {
   "cell_type": "code",
   "execution_count": 5,
   "metadata": {},
   "outputs": [
    {
     "name": "stdout",
     "output_type": "stream",
     "text": [
      "400\n",
      "YYY\n",
      "YUL\n",
      "YYZ\n"
     ]
    }
   ],
   "source": [
    "import numpy as np\n",
    "import heapq\n",
    "\n",
    "'''\n",
    "Heapq (Priority Queue) import:\n",
    "\n",
    "pq = []\n",
    "heapq.heappush(pq, (1, \"Praxis\"))\n",
    "heapq.heappush(pq, (1, \"Calc\"))\n",
    "heapq.heappush(pq, (1, \"C\"))\n",
    "print(heapq.heappop(pq))\n",
    "'''\n",
    "\n",
    "class Node:\n",
    "    def __init__(self, value):\n",
    "        self.value = value\n",
    "        self.connections = []\n",
    "        self.distance_from_start = np.inf\n",
    "\n",
    "class Connection:\n",
    "    def __init__(self, node: Node, weight: float):\n",
    "        self.node = node\n",
    "        self.weight = weight\n",
    "\n",
    "def Dijkstra(start: Node, end: Node):\n",
    "    start.distance_from_start = 0\n",
    "    visited = set()\n",
    "    to_be_considered = [(0, \n",
    "                        {\"node\": start, \"prev\": None})\n",
    "                        ]\n",
    "    current = start \n",
    "    \n",
    "    while current != end:\n",
    "\n",
    "        cur_dist, current_dict = heapq.heappop(to_be_considered)\n",
    "        current = current_dict[\"node\"]\n",
    "        prev = current_dict[\"prev\"]\n",
    "        current.prev = prev \n",
    "\n",
    "        if current in visited:\n",
    "            continue\n",
    "\n",
    "        current.distance_from_start = cur_dist\n",
    "        visited.add(current)\n",
    "\n",
    "        for connection in current.connections:\n",
    "            if connection.node in visited:\n",
    "                continue\n",
    "            heapq.heappush(to_be_considered, (connection.weight + current.distance_from_start, \n",
    "                        ({\n",
    "                            \"node\": connection.node,\n",
    "                            \"prev\": current\n",
    "                        })))\n",
    "    \n",
    "    return current.distance_from_start\n",
    "\n",
    "if __name__ == '__main__':\n",
    "    yyz = Node('YYZ')\n",
    "    lax = Node('LAX')\n",
    "    yul = Node('YUL')\n",
    "    yyy = Node('YYY')\n",
    "    yul.connections.append(Connection(yyy, 100))\n",
    "    yyz.connections.append(Connection(lax, 1000))\n",
    "    yyz.connections.append(Connection(yul, 300))\n",
    "    lax.connections.append(Connection(yul, 500))\n",
    "    print(Dijkstra(yyz, yyy))\n",
    "    \n",
    "    # Backtrack to find the path\n",
    "    cur = yyy\n",
    "    while cur:\n",
    "        print(cur.value)\n",
    "        cur = cur.prev"
   ]
  },
  {
   "cell_type": "markdown",
   "metadata": {},
   "source": [
    "### Greedy Best-First Search\n"
   ]
  },
  {
   "cell_type": "markdown",
   "metadata": {},
   "source": [
    "- `h(node)`: an estimate for how far the node is from the destination\n",
    "    - A \"heuristic function\":\n",
    "\n",
    "```python\n",
    "GreedyBestFirst(G = (V, E), source, dest):\n",
    "    S = {}\n",
    "    v = source\n",
    "    while v is not dest:\n",
    "        select v from the neighbourhood of S with the smallest h(v)\n",
    "        add v to S\n",
    "```\n",
    "\n",
    "- Not guaranteed to find the shortest path\n",
    "- Will work well if `h(node)` is a good estimate\n",
    "\n",
    "<img src=\"assets/gbfs.png\"></img>"
   ]
  },
  {
   "cell_type": "markdown",
   "metadata": {},
   "source": [
    "#### Djikstra vs. GBFS\n",
    "\n",
    "<img src=\"assets/comparison.png\"></img>"
   ]
  },
  {
   "cell_type": "markdown",
   "metadata": {},
   "source": [
    "### A* Algorithm\n",
    "\n",
    "Idea: Combine the ideas of Djikstra & GBFS\n",
    "- Same as Djikstra but just one difference\n",
    "    - When assigning a priority in pq.push(), add the distance between nodes plus the estimate `h(v)`\n",
    "\n",
    "- Goal: find a cheap path from the start node to the end node\n",
    "- Idea: explore a node that cheap to get to from start and looks like it's close to end\n",
    "- Heuristic function: f(v) is small if v looks like it's close to end\n",
    "- On a plane: can use the distance between the coordinates of v and end\n",
    "\n",
    "```python\n",
    "A*(G = (V, E), source, dest):\n",
    "    S = dict()\n",
    "    pq = (h(source), 0, source)\n",
    "    \n",
    "    while pq is not empty:\n",
    "        if current_node in S:\n",
    "            continue\n",
    "        cur_node, cur_priority, cur_dist = pq.pop()\n",
    "        dist(cur_node) = cur_dist\n",
    "        add cur_node to S\n",
    "\n",
    "        for each neighbour v of cur_node:\n",
    "            dist = cur_dist + |(v, cur_dist)|\n",
    "            pq.push(h(v) + dist, dist, v)\n",
    "```\n",
    "<br>\n",
    "<img src=\"assets/a-star.png\"></img>"
   ]
  }
 ],
 "metadata": {
  "kernelspec": {
   "display_name": "Python 3",
   "language": "python",
   "name": "python3"
  },
  "language_info": {
   "codemirror_mode": {
    "name": "ipython",
    "version": 3
   },
   "file_extension": ".py",
   "mimetype": "text/x-python",
   "name": "python",
   "nbconvert_exporter": "python",
   "pygments_lexer": "ipython3",
   "version": "3.12.5"
  }
 },
 "nbformat": 4,
 "nbformat_minor": 2
}
