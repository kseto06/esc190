{
 "cells": [
  {
   "cell_type": "markdown",
   "metadata": {},
   "source": [
    "## Min-Priority Queue ADT\n",
    "\n",
    "- A queue where each element has a *priority*\n",
    "- Operations:\n",
    "    - `enqueue(elem, priority)`: insert elem with a given priority\n",
    "    - `find_min`: return the element with the smallest priority\n",
    "    - `extract_min`: remove the element with the smallest priority and return it\n",
    "\n",
    "- Example usage: assign lower numbers to patients in the emergency room who need to be seen sooner"
   ]
  },
  {
   "cell_type": "code",
   "execution_count": 1,
   "metadata": {},
   "outputs": [
    {
     "name": "stdout",
     "output_type": "stream",
     "text": [
      "Alice\n",
      "Bob\n"
     ]
    }
   ],
   "source": [
    "class PriorityQueue:\n",
    "    def __init__(self):\n",
    "        self.queue = []\n",
    "\n",
    "    def insert(self, data, priority):\n",
    "        self.queue.append((data, priority))\n",
    "\n",
    "    def extract_min(self):\n",
    "        min_idx = 0\n",
    "        for i in range(len(self.queue)):\n",
    "            if self.queue[i][1] < self.queue[min_idx][1]:\n",
    "                min_idx = i\n",
    "\n",
    "        return self.queue.pop(min_idx)[0]\n",
    "    \n",
    "if __name__ == '__main__':\n",
    "    pq = PriorityQueue()\n",
    "    pq.insert(\"Mike\" , 3)\n",
    "    pq.insert(\"Bob\", 2)\n",
    "    pq.insert(\"Alice\", 1)\n",
    "    pq.insert(\"Eve\", 5)\n",
    "\n",
    "    print(pq.extract_min()) # Alice\n",
    "    print(pq.extract_min()) # Bob"
   ]
  },
  {
   "cell_type": "markdown",
   "metadata": {},
   "source": [
    "## Shortest Paths\n",
    "\n",
    "- Given a weighted connected graph `G = (V, E)` and a pair of vertices `V`<sub>`s`</sub>, `V`<sub>`d`</sub> `∈ V`, what is the shortest path between `V`<sub>`s`</sub> and `V`<sub>`d`</sub>?\n",
    "    - Path with the smallest sum of edge weights\n",
    "\n",
    "<img src=\"assets/intro.png\"></img>"
   ]
  },
  {
   "cell_type": "markdown",
   "metadata": {},
   "source": [
    "### Approach\n",
    "- Shortest path (SP) from A to H = SP from A to E + SP from E to H\n",
    "- SP from A to H = `min`<sub>`i`</sub>`(SP from A to V`<sub>`i`</sub> + `SP from V`<sub>`i`</sub> `to H)`\n",
    "\n",
    "<img src=\"assets/approach.png\"></img>"
   ]
  },
  {
   "cell_type": "markdown",
   "metadata": {},
   "source": [
    "## Dijkstra's Algorithm\n",
    "\n",
    "```python\n",
    "Dijkstra(G = (V, E), source):\n",
    "    S = {source} # S is the set of explored nodes\n",
    "    d = {source} = 0 # d(v) is the shortest path from source to v\n",
    "\n",
    "\n",
    "    while S != V:\n",
    "        Choose v ∈ V s.t. d(u) + |(u, v)| is minimized, (u ∈ S)\n",
    "        Add v to S, set d(v) = d(u) + |(u, v)|\n",
    "```\n",
    "\n",
    "<img src=\"assets/djikstra.png\">\n",
    "\n",
    "### Djikstra Complexity\n",
    "- Depends on the implementation details\n",
    "- Simplest implementation\n",
    "    - To add one vertex to S, search through all possible additional vertices\n",
    "    - `O(|V|`<sup>`2`</sup>`)`\n",
    "\n",
    "- Fancier implementation\n",
    "    - Add potential v’s to a priority queue as S grows\n",
    "    - `O((|E|)log|V|)`\n",
    "\n",
    "### Recovering the path:\n",
    "\n",
    "```python\n",
    "Dijkstra(G = (V, E), source):\n",
    "    S = {source} # S is the set of explored nodes\n",
    "    d = {source} = 0 # d(v) is the shortest path from source to v\n",
    "\n",
    "\n",
    "    while S != V:\n",
    "        Choose v ∈ V s.t. d(u) + |(u, v)| is minimized, (u ∈ S)\n",
    "        Add v to S, set d(v) = d(u) + |(u, v)|\n",
    "        prev(v) = u #Add this line here to recover the path -- record u as the node\n",
    "```"
   ]
  }
 ],
 "metadata": {
  "kernelspec": {
   "display_name": "Python 3",
   "language": "python",
   "name": "python3"
  },
  "language_info": {
   "codemirror_mode": {
    "name": "ipython",
    "version": 3
   },
   "file_extension": ".py",
   "mimetype": "text/x-python",
   "name": "python",
   "nbconvert_exporter": "python",
   "pygments_lexer": "ipython3",
   "version": "3.12.5"
  }
 },
 "nbformat": 4,
 "nbformat_minor": 2
}
