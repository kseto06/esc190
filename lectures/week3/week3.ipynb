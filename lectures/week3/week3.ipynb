{
 "cells": [
  {
   "cell_type": "markdown",
   "metadata": {},
   "source": [
    "## strlen\n",
    "\n",
    "- length of a string is just an array of chars, ending with last element '/0'"
   ]
  },
  {
   "cell_type": "code",
   "execution_count": 11,
   "metadata": {},
   "outputs": [
    {
     "name": "stdout",
     "output_type": "stream",
     "text": [
      "Overwriting lec7.c\n"
     ]
    }
   ],
   "source": [
    "%%file week3.c\n",
    "\n",
    "#include <stdio.h>\n",
    "\n",
    "// Linear strlen:\n",
    "int my_strlen(char *s) {\n",
    "    int cur_i = 0;\n",
    "    while (s[cur_i] != '\\0') {\n",
    "        cur_i++;\n",
    "    }\n",
    "\n",
    "    // for(cur_i = 0; s[cur_i] != '\\0'; cur_i++);\n",
    "\n",
    "    return cur_i;\n",
    "}\n",
    "\n",
    "// Recursive strlen:\n",
    "int recursive_strlen(char *s) {\n",
    "    //Base case:\n",
    "    if (s[0] == '\\0') {\n",
    "        return 0; //Empty string\n",
    "    }\n",
    "    // Recursive step\n",
    "    else {\n",
    "        return 1 + recursive_strlen(s+1); //s+1 points to the 1st address in the char array/string\n",
    "    }\n",
    "}\n",
    "\n",
    "int main() {\n",
    "    char s[] = \"abc\";\n",
    "    printf(\"%d\\n\", my_strlen(s));\n",
    "    printf(\"%d\\n\", recursive_strlen(s));\n",
    "}"
   ]
  },
  {
   "cell_type": "code",
   "execution_count": 12,
   "metadata": {},
   "outputs": [
    {
     "name": "stdout",
     "output_type": "stream",
     "text": [
      "3\n",
      "3\n"
     ]
    }
   ],
   "source": [
    "%%bash\n",
    "gcc week3.c -g -o week3\n",
    "./week3"
   ]
  },
  {
   "cell_type": "markdown",
   "metadata": {},
   "source": [
    "## sizeof\n",
    "\n",
    "- sizeof(int) --> usually 4 bytes\n",
    "- sizeof(char) --> always 1 B\n",
    "- sizeof(char *) --> usually addresses take 8B. NOT len of arr/str\n",
    "- sizeof(int *) --> usually addresses take 8B. NOT len of arr/str"
   ]
  },
  {
   "cell_type": "code",
   "execution_count": null,
   "metadata": {},
   "outputs": [],
   "source": [
    "# Size of an array:\n",
    "\n",
    "%%file week3.c\n",
    "\n",
    "int arr[] = {1, 2, 3}\n",
    "int len = sizeof(arr) / sizeof(arr[0])"
   ]
  },
  {
   "cell_type": "markdown",
   "metadata": {},
   "source": [
    "However, note that if arr is passed into a function, it is converted to a pointer:"
   ]
  },
  {
   "cell_type": "code",
   "execution_count": null,
   "metadata": {},
   "outputs": [],
   "source": [
    "%%file week3.c\n",
    "\n",
    "void sz(int *a) {\n",
    "    sizeof(a); //8\n",
    "}\n",
    "\n",
    "int main() {\n",
    "    int a[] = {1,2,3}\n",
    "    sz(a);\n",
    "}"
   ]
  },
  {
   "cell_type": "markdown",
   "metadata": {},
   "source": [
    "### Similarly, you can get the sizeof a structure:"
   ]
  },
  {
   "cell_type": "code",
   "execution_count": 27,
   "metadata": {},
   "outputs": [
    {
     "name": "stdout",
     "output_type": "stream",
     "text": [
      "Overwriting lec7.c\n"
     ]
    }
   ],
   "source": [
    "%%file week3.c\n",
    "#include <stdio.h>\n",
    "\n",
    "typedef struct student {\n",
    "    char name[200];\n",
    "    double GPA;\n",
    "} student;\n",
    "\n",
    "typedef struct student1 {\n",
    "    char name[201];\n",
    "    double GPA;\n",
    "} student1;\n",
    "\n",
    "int main() {\n",
    "    printf(\"%zu\\n%zu\\n\", sizeof(student), sizeof(student1)); //%zu = unsigned type\n",
    "    student s = {\"Alice\", 3.9};\n",
    "    student1 s1 = {\"Bob\", 3.93};\n",
    "    return 0;\n",
    "}"
   ]
  },
  {
   "cell_type": "code",
   "execution_count": 28,
   "metadata": {},
   "outputs": [
    {
     "name": "stdout",
     "output_type": "stream",
     "text": [
      "208\n",
      "216\n"
     ]
    }
   ],
   "source": [
    "%%bash\n",
    "gcc week3.c -g -o week3\n",
    "./week3"
   ]
  },
  {
   "cell_type": "markdown",
   "metadata": {},
   "source": [
    "## malloc\n",
    "\n",
    "- Local arrays disappear once a function has finished running\n",
    "- Arrays in C are not resizable\n",
    "- malloc allocates space in the memory table to store a block of values"
   ]
  },
  {
   "cell_type": "code",
   "execution_count": null,
   "metadata": {},
   "outputs": [],
   "source": [
    "%%file week3.c\n",
    "\n",
    "#include <stdlib.h>\n",
    "#include <stdio.h>\n",
    "\n",
    "int main() {\n",
    "    // Allocates space for 150 integers\n",
    "    // malloc returns the addr of element 0\n",
    "    // cast the address to int *\n",
    "    \n",
    "    int *block_int = (int *)malloc(sizeof(int) * 150);\n",
    "\n",
    "    //These are the same:\n",
    "\n",
    "    block_int[7] = 42;\n",
    "    *(block_int + 7) = 42; \n",
    "}"
   ]
  },
  {
   "cell_type": "markdown",
   "metadata": {},
   "source": [
    "### Ex: Where malloc works/doesn't work"
   ]
  },
  {
   "cell_type": "code",
   "execution_count": null,
   "metadata": {},
   "outputs": [],
   "source": [
    "%%file week3.c\n",
    "\n",
    "int *make_arr_wrong() {\n",
    "    int arr[] = {5,6,7};\n",
    "    return arr;\n",
    "}\n",
    "\n",
    "int *make_arr_right() {\n",
    "    int *arr = (int *)malloc(3*sizeof(int));\n",
    "    arr[0] = 5;\n",
    "    arr[1] = 6;\n",
    "    arr[2] = 7;\n",
    "    return arr;\n",
    "}\n",
    "\n",
    "int main() {\n",
    "    int *res2 = make_arr_right();\n",
    "    res2[0] = 123; //Addr of the '5', can be accessed to put 123 in. It exists in memory b/c of malloc.\n",
    "    int *res1 = make_arr_wrong();\n",
    "    res1[0] = 123; //This addr is no longer valid because the arr is local\n",
    "}"
   ]
  },
  {
   "cell_type": "markdown",
   "metadata": {},
   "source": [
    "## free\n",
    "- Good practice to free(`block`) memory blocks that you may have allocated\n",
    "- C cannot use a malloc-ed block for something new until it's freed\n",
    "- For continuously running programs, you might run out of memory\n",
    "\n",
    "**Memory Leak**: a situation where memory is allocated but never freed"
   ]
  },
  {
   "cell_type": "code",
   "execution_count": null,
   "metadata": {},
   "outputs": [],
   "source": [
    "%%file week3.c\n",
    "\n",
    "int *make_arr_wrong() {\n",
    "    int arr[] = {5,6,7};\n",
    "    return arr;\n",
    "}\n",
    "\n",
    "int *make_arr_right() {\n",
    "    int *arr = (int *)malloc(3*sizeof(int));\n",
    "    arr[0] = 5;\n",
    "    arr[1] = 6;\n",
    "    arr[2] = 7;\n",
    "    return arr;\n",
    "}\n",
    "\n",
    "int main() {\n",
    "    int *res2 = make_arr_right();\n",
    "    res2[0] = 123; //Addr of the '5', can be accessed to put 123 in. It exists in memory b/c of malloc.\n",
    "    free(res2);\n",
    "    res2[0]; // Undefined behaviour because block was freed from memory\n",
    "\n",
    "    int *res1 = make_arr_wrong();\n",
    "    res1[0] = 123; //This addr is no longer valid because the arr is local\n",
    "}"
   ]
  },
  {
   "cell_type": "markdown",
   "metadata": {},
   "source": [
    "#### Block of Structs"
   ]
  },
  {
   "cell_type": "code",
   "execution_count": null,
   "metadata": {},
   "outputs": [],
   "source": [
    "%%file week3.c\n",
    "\n",
    "#include <stdlib.h>\n",
    "\n",
    "typedef struct student {\n",
    "    char name[200];\n",
    "    int age;\n",
    "} student;\n",
    "\n",
    "//Array:\n",
    "int main() {\n",
    "    student students[500];\n",
    "    student *students_block = (student *)malloc(sizeof(student)*500);\n",
    "}"
   ]
  },
  {
   "cell_type": "markdown",
   "metadata": {},
   "source": [
    "## Dealing with Strings"
   ]
  },
  {
   "cell_type": "markdown",
   "metadata": {},
   "source": [
    "- If 'hi' is stored at addrs 1032, 1033, 1034\n",
    "- The address of the 'h' is 1032, and s1 gets converted to 1032 when used\n",
    "- s2 = s1 --> allowed, but strings are now aliases. s2 becomes 1032 from 1033\n",
    "\n",
    "`strcpy(s2, s1)` --> not OK, since cannot copy to addr s2\n",
    "\n",
    "------------------------------------------------------------\n",
    "\n",
    "`s2 = (char *)malloc(sizeof(char)*(strlen(s1)+1))` \n",
    "`strcpy(s2, s1)` // Copy the contents of s1 into s2\n"
   ]
  },
  {
   "cell_type": "code",
   "execution_count": null,
   "metadata": {},
   "outputs": [],
   "source": [
    "%%file week3.c\n",
    "\n",
    "#include <stdio.h>\n",
    "\n",
    "int main() {\n",
    "    char s1[] = \"hi\"; //{'h', 'i', '\\0'}\n",
    "    char s3[5]; //strcpy(s3,s1)\n",
    "    char *s2 = 0;\n",
    "}"
   ]
  },
  {
   "cell_type": "markdown",
   "metadata": {},
   "source": [
    "## Quiz 1: "
   ]
  },
  {
   "cell_type": "code",
   "execution_count": 37,
   "metadata": {},
   "outputs": [
    {
     "name": "stdout",
     "output_type": "stream",
     "text": [
      "Overwriting lec7.c\n"
     ]
    }
   ],
   "source": [
    "%%file week3.c\n",
    "\n",
    "# include <stdio.h>\n",
    "\n",
    "int main() {\n",
    "    int a = 42;\n",
    "\n",
    "    printf(\"%d  \", a);\n",
    "\n",
    "    printf(\"%ld \", &a);\n",
    "\n",
    "    printf(\"%ld \", *a);\n",
    "    return 0;\n",
    "}"
   ]
  },
  {
   "cell_type": "code",
   "execution_count": null,
   "metadata": {},
   "outputs": [
    {
     "name": "stderr",
     "output_type": "stream",
     "text": [
      "lec7.c:9:20: warning: format specifies type 'long' but the argument has type 'int *' [-Wformat]\n",
      "    printf(\"%ld \", &a);\n",
      "            ~~~    ^~\n",
      "lec7.c:11:20: error: indirection requires pointer operand ('int' invalid)\n",
      "    printf(\"%ld \", *a);\n",
      "                   ^~\n",
      "1 warning and 1 error generated.\n"
     ]
    },
    {
     "name": "stdout",
     "output_type": "stream",
     "text": [
      "42  6135147992 "
     ]
    }
   ],
   "source": [
    "%%bash\n",
    "gcc week3.c -g -o week3\n",
    "./week3"
   ]
  },
  {
   "cell_type": "markdown",
   "metadata": {},
   "source": [
    "## Pointers to Pointers\n",
    "\n",
    "- Sometimes, we want to change the value of a pointer inside a function"
   ]
  },
  {
   "cell_type": "code",
   "execution_count": null,
   "metadata": {},
   "outputs": [],
   "source": [
    "%%file week3.c\n",
    "\n",
    "/*\n",
    "Set the value at address p_p_a to 0\n",
    "p_p_a happens to be of type int **\n",
    "So *p_p_a is of type int*\n",
    "*/\n",
    "void set_to_0(int **p_p_a) {\n",
    "    *p_p_a = 0; \n",
    "}\n",
    "\n",
    "int main() {\n",
    "    int a = 42;\n",
    "    int *p_a = &a; //Pointer of a\n",
    "    set_to_0(&p_a) // &p_a is the pointer of p_a\n",
    "                   // p_a is now zero, but a is not affected!\n",
    "}"
   ]
  },
  {
   "cell_type": "markdown",
   "metadata": {},
   "source": [
    "## Header files\n",
    "\n",
    "- Can give the compiler instructions for tasks that are performed before compilation\n",
    "- Basically a class that can be imported and included in C files \n",
    "- Standard C library: use <name.h>\n",
    "- Custom: use \"name.h\""
   ]
  },
  {
   "cell_type": "markdown",
   "metadata": {},
   "source": [
    "## Preprocessor\n",
    "\n",
    "- Can assign names to certain values\n",
    "- i.e: `#define PI 3.14`\n",
    "- Faster than defining a variable\n",
    "\n",
    "<br>\n",
    "\n",
    "- Can only define structs once\n",
    "- Can use an \"include guard\" in an .h file to avoid defining things twice if the header file is included multiple times"
   ]
  },
  {
   "cell_type": "markdown",
   "metadata": {},
   "source": [
    "Below:\n",
    "- Checks whether STUDENT_H (arb name, but usually related to the header file name) is defined\n",
    "- If it's not defined include the code between #if and #endif"
   ]
  },
  {
   "cell_type": "code",
   "execution_count": 6,
   "metadata": {},
   "outputs": [
    {
     "name": "stdout",
     "output_type": "stream",
     "text": [
      "Overwriting student.h\n"
     ]
    }
   ],
   "source": [
    "%%file student.h\n",
    "\n",
    "#if !defined(STUDENT_H)\n",
    "#define STUDENT_H\n",
    "\n",
    "typedef struct student {\n",
    "    char name[20];\n",
    "    int age;\n",
    "    double gpa;\n",
    "} student;\n",
    "\n",
    "//Can also define a function from student.c here with just the signature:\n",
    "void hack_gpa(student *s);\n",
    "\n",
    "#endif\n",
    "\n",
    "\n",
    "// Second time student.h is #included, nothing will happen\n",
    "// Name of technique = \"include guards\"\n"
   ]
  },
  {
   "cell_type": "code",
   "execution_count": 13,
   "metadata": {},
   "outputs": [
    {
     "name": "stdout",
     "output_type": "stream",
     "text": [
      "Overwriting student.c\n"
     ]
    }
   ],
   "source": [
    "%%file student.c\n",
    "\n",
    "#include <stdio.h>\n",
    "#include \"student.h\"\n",
    "\n",
    "void hack_gpa(student *s) { //Can include student because student.h included\n",
    "    s->gpa = 4.0;\n",
    "}\n",
    "\n",
    "int main() {\n",
    "    student s;\n",
    "    s.age = 20;\n",
    "    s.gpa = 3.9;\n",
    "    hack_gpa(&s);\n",
    "    printf(\"%f\", s.gpa);\n",
    "    return 0;\n",
    "}"
   ]
  },
  {
   "cell_type": "code",
   "execution_count": 14,
   "metadata": {},
   "outputs": [
    {
     "name": "stdout",
     "output_type": "stream",
     "text": [
      "4.000000"
     ]
    }
   ],
   "source": [
    "%%bash\n",
    "gcc student.c -g -o student\n",
    "./student"
   ]
  },
  {
   "cell_type": "markdown",
   "metadata": {},
   "source": [
    "## Strings in Structs"
   ]
  },
  {
   "cell_type": "code",
   "execution_count": null,
   "metadata": {},
   "outputs": [],
   "source": [
    "%%file week3.c\n",
    "typedef struct student1 {\n",
    "    char *name; //Store the addr where the name is stored\n",
    "} student1; //Need to allocate name for each student\n",
    "\n",
    "typedef struct student2 {\n",
    "    char name[200]; //Store 200 chars\n",
    "} student2; //Do not need to allocate name for each student\n",
    "\n",
    "student1 make_student1(char *name, double gpa) {\n",
    "    student1 s1;\n",
    "    \n",
    "}"
   ]
  }
 ],
 "metadata": {
  "kernelspec": {
   "display_name": "Python 3",
   "language": "python",
   "name": "python3"
  },
  "language_info": {
   "codemirror_mode": {
    "name": "ipython",
    "version": 3
   },
   "file_extension": ".py",
   "mimetype": "text/x-python",
   "name": "python",
   "nbconvert_exporter": "python",
   "pygments_lexer": "ipython3",
   "version": "3.12.5"
  }
 },
 "nbformat": 4,
 "nbformat_minor": 2
}
