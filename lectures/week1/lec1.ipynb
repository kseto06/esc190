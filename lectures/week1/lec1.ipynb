{
 "cells": [
  {
   "cell_type": "markdown",
   "metadata": {},
   "source": [
    "#### Types in C:\n",
    "\n",
    "- int: integer\n",
    "- double: double-precision floating point (like float in Python)\n",
    "- char: a character (e.g., ‘@’, ‘b’)           \n",
    "- int *: address of int\n",
    "- char *: address of char"
   ]
  },
  {
   "cell_type": "code",
   "execution_count": 7,
   "metadata": {},
   "outputs": [
    {
     "name": "stdout",
     "output_type": "stream",
     "text": [
      "Overwriting lec1.c\n"
     ]
    }
   ],
   "source": [
    "%%file lec1.c\n",
    "#include <stdio.h>\n",
    "\n",
    "int main() {\n",
    "    int n = 25;\n",
    "    printf(\"%d\\n\", n);\n",
    "\n",
    "    char *s = \"abc\"; \n",
    "    printf(\"String: %s\\n\", s);\n",
    "    printf(\"Char: %c\", s[10]);\n",
    "\n",
    "    char c = '@';\n",
    "    char *p_c = &c; //& = \"address of\"\n",
    "\n",
    "    return 0;\n",
    "}"
   ]
  },
  {
   "cell_type": "code",
   "execution_count": 12,
   "metadata": {},
   "outputs": [
    {
     "name": "stdout",
     "output_type": "stream",
     "text": [
      "25\n",
      "String: abc\n",
      "Char: :"
     ]
    }
   ],
   "source": [
    "%%bash\n",
    "gcc lec1.c -g -o lec1\n",
    "./lec1"
   ]
  }
 ],
 "metadata": {
  "kernelspec": {
   "display_name": "Python 3",
   "language": "python",
   "name": "python3"
  },
  "language_info": {
   "codemirror_mode": {
    "name": "ipython",
    "version": 3
   },
   "file_extension": ".py",
   "mimetype": "text/x-python",
   "name": "python",
   "nbconvert_exporter": "python",
   "pygments_lexer": "ipython3",
   "version": "3.12.5"
  }
 },
 "nbformat": 4,
 "nbformat_minor": 2
}
