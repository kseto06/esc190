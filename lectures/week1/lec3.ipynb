{
 "cells": [
  {
   "cell_type": "markdown",
   "metadata": {},
   "source": [
    "### Pointers"
   ]
  },
  {
   "cell_type": "code",
   "execution_count": 2,
   "metadata": {},
   "outputs": [
    {
     "name": "stdout",
     "output_type": "stream",
     "text": [
      "Overwriting lec3.c\n"
     ]
    }
   ],
   "source": [
    "%%file lec3.c\n",
    "#include <stdio.h>\n",
    "\n",
    "int main() {\n",
    "    int a = 42;\n",
    "    int *p_a = &a;\n",
    "    int **p_pa = &p_a;\n",
    "    char *s = \"abc\";\n",
    "\n",
    "    *p_a = 43; // Put 43 in address p_a\n",
    "    \n",
    "    return 0;\n",
    "}"
   ]
  },
  {
   "cell_type": "code",
   "execution_count": 3,
   "metadata": {},
   "outputs": [],
   "source": [
    "%%bash\n",
    "gcc lec3.c -g -o lec3\n",
    "./lec3"
   ]
  },
  {
   "cell_type": "markdown",
   "metadata": {},
   "source": [
    "### Breaking Pointers Example\n",
    "\n",
    "`p_a = 0; //NOTE: THIS SETS THE POINTER TO NULL, AND NO LONGER POINTS TO ANY VALID MEMORY LOCATION`\n",
    "\n",
    "`*p_a = 190; //Therefore this line will break`\n",
    "\n",
    "However, note that if you try to change it with p_a in a LOCAL FUNCTION, it won't break; it just won't do anything."
   ]
  },
  {
   "cell_type": "markdown",
   "metadata": {},
   "source": [
    "### Functions and Pointers\n",
    "\n",
    "In a function, pointers of the input still point to the input in the main() function"
   ]
  },
  {
   "cell_type": "code",
   "execution_count": 4,
   "metadata": {},
   "outputs": [
    {
     "name": "stdout",
     "output_type": "stream",
     "text": [
      "Overwriting lec3.c\n"
     ]
    }
   ],
   "source": [
    "%%file lec3.c\n",
    "int main() {\n",
    "    int b = 42;\n",
    "    f(&b);\n",
    "    return 0;\n",
    "}\n",
    "\n",
    "int f(int *p_a) {\n",
    "    *p_a = 43; //Function changes input *p_a or &b, thus making b = 43 from 42\n",
    "    p_a = 0; //Local variable changed, therefore won't have effect globally (this is not a pointer)\n",
    "}"
   ]
  },
  {
   "cell_type": "code",
   "execution_count": 5,
   "metadata": {},
   "outputs": [
    {
     "name": "stderr",
     "output_type": "stream",
     "text": [
      "lec3.c:3:5: error: call to undeclared function 'f'; ISO C99 and later do not support implicit function declarations [-Wimplicit-function-declaration]\n",
      "    f(&b);\n",
      "    ^\n",
      "1 error generated.\n"
     ]
    }
   ],
   "source": [
    "%%bash\n",
    "gcc lec3.c -g -o lec3\n",
    "./lec3"
   ]
  },
  {
   "cell_type": "markdown",
   "metadata": {},
   "source": [
    "### BLOCKS OF VALUES \n",
    "- Strings and arrays are examples of blocks of values\n",
    "- Blocks of values stored consecutively\n",
    "\n",
    "### POINTER ARITHMETIC\n",
    "- Since pointers are basically addresses, you can perform arithemetic operations on them\n",
    "- NOTE:\n",
    "    - in arrays: arr[i] = *(arr+i)"
   ]
  },
  {
   "cell_type": "code",
   "execution_count": 6,
   "metadata": {},
   "outputs": [
    {
     "name": "stdout",
     "output_type": "stream",
     "text": [
      "Overwriting lec3.c\n"
     ]
    }
   ],
   "source": [
    "%%file lec3.c \n",
    "\n",
    "int main() {\n",
    "    char *s = \"hi\"; //Assume \"h\" points to @1032\n",
    "    s+1; //then s+1, with s pointing to first letter \"h\", this = 1033\n",
    "\n",
    "    int arr[] = {3, 4};\n",
    "    arr + 1; //2064 + 4 - this points to address of 3, which is the first element in the array\n",
    "    *(arr + 1); // 4 - this points DIRECTLY to first element in array\n",
    "\n",
    "    // %ld converts the address arr into decimal\n",
    "    printf(\"%ld\\n\", arr);\n",
    "\n",
    "    /*\n",
    "        NOTE:\n",
    "        arr[5] is the same as *(arr+5)\n",
    "    */\n",
    "\n",
    "    return 0;\n",
    "}"
   ]
  },
  {
   "cell_type": "code",
   "execution_count": 7,
   "metadata": {},
   "outputs": [
    {
     "name": "stderr",
     "output_type": "stream",
     "text": [
      "lec3.c:11:5: error: call to undeclared library function 'printf' with type 'int (const char *, ...)'; ISO C99 and later do not support implicit function declarations [-Wimplicit-function-declaration]\n",
      "    printf(\"%ld\\n\", arr);\n",
      "    ^\n",
      "lec3.c:11:5: note: include the header <stdio.h> or explicitly provide a declaration for 'printf'\n",
      "lec3.c:11:21: warning: format specifies type 'long' but the argument has type 'int *' [-Wformat]\n",
      "    printf(\"%ld\\n\", arr);\n",
      "            ~~~     ^~~\n",
      "lec3.c:4:6: warning: expression result unused [-Wunused-value]\n",
      "    s+1; //then s+1, with s pointing to first letter \"h\", this = 1033\n",
      "    ~^~\n",
      "lec3.c:7:9: warning: expression result unused [-Wunused-value]\n",
      "    arr + 1; //2064 + 4 - this points to address of 3, which is the first element in the array\n",
      "    ~~~ ^ ~\n",
      "lec3.c:8:5: warning: expression result unused [-Wunused-value]\n",
      "    *(arr + 1); // 4 - this points DIRECTLY to first element in array\n",
      "    ^~~~~~~~~~\n",
      "4 warnings and 1 error generated.\n"
     ]
    }
   ],
   "source": [
    "%%bash\n",
    "gcc lec3.c -g -o lec3\n",
    "./lec3"
   ]
  }
 ],
 "metadata": {
  "kernelspec": {
   "display_name": "Python 3",
   "language": "python",
   "name": "python3"
  },
  "language_info": {
   "codemirror_mode": {
    "name": "ipython",
    "version": 3
   },
   "file_extension": ".py",
   "mimetype": "text/x-python",
   "name": "python",
   "nbconvert_exporter": "python",
   "pygments_lexer": "ipython3",
   "version": "3.12.5"
  }
 },
 "nbformat": 4,
 "nbformat_minor": 2
}
