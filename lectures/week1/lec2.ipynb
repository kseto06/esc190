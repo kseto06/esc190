{
 "cells": [
  {
   "cell_type": "markdown",
   "metadata": {},
   "source": [
    "### Variable Declaration in C"
   ]
  },
  {
   "cell_type": "code",
   "execution_count": 5,
   "metadata": {},
   "outputs": [
    {
     "name": "stdout",
     "output_type": "stream",
     "text": [
      "Overwriting lec2.c\n"
     ]
    }
   ],
   "source": [
    "%%file lec2.c\n",
    "#include <stdio.h>\n",
    "\n",
    "int main(void) {\n",
    "    int a1 = 42;\n",
    "    long int la = 210000000000L;\n",
    "    char c = '@'; // char: a single character\n",
    "    char *s1 = \"string\"; // string: the address of a firwsst character in the sequence\n",
    "\n",
    "    char *p_c = &c; // & means address of\n",
    "\n",
    "    printf(\"The string is: %s\\n\", s1);\n",
    "    return 0;\n",
    "}"
   ]
  },
  {
   "cell_type": "code",
   "execution_count": 6,
   "metadata": {},
   "outputs": [
    {
     "name": "stdout",
     "output_type": "stream",
     "text": [
      "The string is: string\n"
     ]
    }
   ],
   "source": [
    "%%bash\n",
    "gcc lec2.c -g -o lec2\n",
    "./lec2"
   ]
  },
  {
   "cell_type": "markdown",
   "metadata": {},
   "source": [
    "#### Ex 2\n",
    "`p_c = 124316482`\n",
    "\n",
    "`*p_c; //Address of p_c, which is a char`\n",
    "\n",
    "`**p_c; //Doesn't work, because you can't treat the char as an addr`\n"
   ]
  },
  {
   "cell_type": "markdown",
   "metadata": {},
   "source": [
    "### Arrays and Pointers"
   ]
  },
  {
   "cell_type": "code",
   "execution_count": 7,
   "metadata": {},
   "outputs": [
    {
     "name": "stdout",
     "output_type": "stream",
     "text": [
      "Overwriting lec2.c\n"
     ]
    }
   ],
   "source": [
    "%%file lec2.c\n",
    "#include <stdio.h>\n",
    "\n",
    "void set43(int *p_a) {\n",
    "  *p_a = 43; \n",
    "}\n",
    "\n",
    "int main(void) {\n",
    "    /* ARRAYS */\n",
    "    // Sequence of objects \n",
    "    int arr[] = {5, 10, 2};\n",
    "    printf(\"%d\\n\", arr[1]);\n",
    "\n",
    "    /* POINTERS */\n",
    "    int a = 42;\n",
    "    set43(&a); // Will change the value of a to 43 due to * pointer\n",
    "    \n",
    "    //a = 43\n",
    "    int *p_a = &a; //p_a is the address of a\n",
    "    char *s = \"abc\"; //s is the address \n",
    "    \n",
    "    *p_a = 42; // put 42 in address p_a\n",
    "                // a  becomes 42\n",
    "                \n",
    "    int arr2[] = {4, 5, 6};\n",
    "    printf(\"%d\", *arr2); // Pointer of arr is just the 1st element of the array\n",
    "    \n",
    "\n",
    "    return 0;\n",
    "}\n"
   ]
  },
  {
   "cell_type": "code",
   "execution_count": 8,
   "metadata": {},
   "outputs": [
    {
     "name": "stdout",
     "output_type": "stream",
     "text": [
      "10\n",
      "4"
     ]
    }
   ],
   "source": [
    "%%bash\n",
    "gcc lec2.c -g -o lec2\n",
    "./lec2"
   ]
  }
 ],
 "metadata": {
  "kernelspec": {
   "display_name": "Python 3",
   "language": "python",
   "name": "python3"
  },
  "language_info": {
   "codemirror_mode": {
    "name": "ipython",
    "version": 3
   },
   "file_extension": ".py",
   "mimetype": "text/x-python",
   "name": "python",
   "nbconvert_exporter": "python",
   "pygments_lexer": "ipython3",
   "version": "3.12.5"
  }
 },
 "nbformat": 4,
 "nbformat_minor": 2
}
