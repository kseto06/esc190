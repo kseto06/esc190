{
 "cells": [
  {
   "cell_type": "markdown",
   "metadata": {},
   "source": [
    "## valgrind\n",
    "- A tool for checking for memory leaks/invalid memory accesses\n",
    "- Will tell you how much memory (Bytes) is lost due to memory leak\n",
    "\n",
    "#### Run the cmd:\n",
    "valgrind --leak-check=yes <program_name>"
   ]
  },
  {
   "cell_type": "code",
   "execution_count": null,
   "metadata": {
    "vscode": {
     "languageId": "c"
    }
   },
   "outputs": [],
   "source": [
    "%%file valgrind.c\n",
    "\n",
    "#include <stdlib.h>\n",
    "\n",
    "int main() {\n",
    "    int* block = (int *)malloc(1000 * sizeof(int));\n",
    "    printf(\"hi\\n\");\n",
    "    //Forget to free\n",
    "    //free(block);\n",
    "\n",
    "    printf(\"block[500] = %d\\n\", block[500]);\n",
    "    printf(\"block[1005] = %d\\n\", block[1005]); //Illegal -- valgrind is able to tell this\n",
    "    // free(block);\n",
    "\n",
    "    int block2[10];\n",
    "    int block3[] = {3, 3, 3};\n",
    "    printf(\"block2[9] = %d\\n\", block2[9]); \n",
    "    printf(\"block2[13] = %d\\n\", block2[-3]); //*(block2 - 2) = address - 2*4\n",
    "    printf(\"block2: %ld\\n\", block2);\n",
    "    printf(\"block3: %ld\\n\", block3);\n",
    "}"
   ]
  },
  {
   "cell_type": "markdown",
   "metadata": {},
   "source": [
    "## Pointers Example:\n",
    "- Create object with name and age and change the name with manual strcpy"
   ]
  },
  {
   "cell_type": "code",
   "execution_count": null,
   "metadata": {
    "vscode": {
     "languageId": "c"
    }
   },
   "outputs": [],
   "source": [
    "#include <stdio.h>\n",
    "\n",
    "typedef struct student22 {\n",
    "    char name[1000];\n",
    "    int age;\n",
    "}\n",
    "\n",
    "int main() {\n",
    "    student22 s = {\"Roger\", 41};\n",
    "    char* src = \"Jennifer\";\n",
    "\n",
    "    //Manual strcpy:\n",
    "    int i = 0;\n",
    "    for (i = 0; i < 1000; i++) {\n",
    "        s.name[i] = src[i];\n",
    "    }\n",
    "    s.name[i] = '\\0';\n",
    "\n",
    "    //Allowed\n",
    "    s.age = 21;\n",
    "}"
   ]
  },
  {
   "cell_type": "code",
   "execution_count": null,
   "metadata": {
    "vscode": {
     "languageId": "c"
    }
   },
   "outputs": [],
   "source": [
    "int main() {\n",
    "    student22 s = {\"Roger\", 41};\n",
    "\n",
    "    // Q24: \n",
    "    student22 *p_s = &s\n",
    "\n",
    "    // Q25: Change name with pointer\n",
    "    strcpy((*p_s).name, \"Jennifer\");\n",
    "    //or\n",
    "    strcpy(p_s->name, \"Jennifer\");\n",
    "\n",
    "    //Q26: Change age with pointer\n",
    "    (*p_s).age = 21;\n",
    "    //or\n",
    "    p_s->age = 21;\n",
    "}"
   ]
  },
  {
   "cell_type": "code",
   "execution_count": null,
   "metadata": {
    "vscode": {
     "languageId": "c"
    }
   },
   "outputs": [],
   "source": [
    "//Q27: Function to change name taking in a pointer\n",
    "void change_name(student22* p_s, char* new_name) {\n",
    "    strcpy(p_s->name, new_name);\n",
    "}\n",
    "\n",
    "//Q28: Function to change age taking in a pointer\n",
    "void change_age(student22* p_s, int new_age) {\n",
    "    p_s->age = new_age;\n",
    "}\n",
    "\n",
    "int main() {\n",
    "    student22 s = {\"Bob\", 50};\n",
    "    student22 *p_s = &s;\n",
    "    change_name(p_s, \"Alice\");\n",
    "\n",
    "    change_age(p_s, 21); \n",
    "    change_age(&s, 21); //Same as above\n",
    "    \n",
    "    return 0;\n",
    "}"
   ]
  },
  {
   "cell_type": "code",
   "execution_count": null,
   "metadata": {
    "vscode": {
     "languageId": "c"
    }
   },
   "outputs": [],
   "source": [
    "int main() {\n",
    "    //Create array of student objects\n",
    "    student22 students[5];\n",
    "    \n",
    "    //Change name/age of student[2]:\n",
    "    change_age(&(students[2]), 45);\n",
    "    change_name(&(students[2]), \"Alice\");\n",
    "    //or\n",
    "    change_age(students+2, 45); //Gets the address of the 3rd student\n",
    "    change_name(students+2, \"Alice\");\n",
    "\n",
    "    //arr[2] = *(arr+2)\n",
    "    //Therefore &(arr[2]) is arr+2 because *(&(arr[2])) = arr[2]\n",
    "\n",
    "}\n",
    "\n",
    "int main33() {\n",
    "    //Create malloc allocated block of 5 students\n",
    "    student22* students = (student22*)malloc(5 * sizeof(student22));\n",
    "}\n",
    "\n",
    "//Q34: Function taking in pointer to addr of student, sets that pointer to point to a new address where a student can be stored\n",
    "void create_student(student22** p_p_s) {\n",
    "    *p_p_s = (student22*)malloc(sizeof(student22));\n",
    "}\n",
    "//Could also do this\n",
    "student22* malloc_student22(int n) {\n",
    "    return (student22*)malloc(n * sizeof(student22));\n",
    "}\n",
    "\n",
    "int main34() {\n",
    "    student22 *p_s;\n",
    "    create_student(&p_s);\n",
    "}\n",
    "\n",
    "int main35() {\n",
    "    //Call the function from Q34 in order to change the value of p_block_s to point to a new addr\n",
    "    student22 *p_block_s = (student22*)malloc(5 * sizeof(student22));\n",
    "    // p_block_s + 2 --> of type student22*\n",
    "    change_name(p_block_s + 2, \"Alice\");\n",
    "}\n",
    "\n",
    "int main37() {\n",
    "    //Create a variable p_p_s to store the addr of p_block_s\n",
    "    student22 *p_block_s = (student22*)malloc(5 * sizeof(student22));\n",
    "    student22** p_p_s = &p_block_s;\n",
    "}\n",
    "\n",
    "int main38() {\n",
    "    //Without calling any function except strcpy, use only p_p_s to change the name of the 3rd student to \"Jennifer\"\n",
    "    student22 *p_block_s = (student22*)malloc(5 * sizeof(student22));\n",
    "    student22** p_p_s = &p_block_s;\n",
    "    strcpy(*(p_p_s+2)->name, \"Jennifer\");\n",
    "}\n",
    "\n",
    "int main39() {\n",
    "    //In the name of the second student in the block pointed to by p_p_s, change the first letter to 'j'\n",
    "    student22 *p_block_s = (student22*)malloc(5 * sizeof(student22));\n",
    "    student22** p_p_s = &p_block_s;\n",
    "    \n",
    "    //Four possible ways\n",
    "    ((*p_p_s+1)->name)[0] = 'j';\n",
    "    ((*(*p_p_s+1)).name)[0] = 'j';\n",
    "    ((*p_p_s)[1].name)[0] = 'j';\n",
    "    *((*(p_p_s+1))->name)[0] = 'j'; //because a[0] = *a\n",
    "}\n",
    "\n",
    "//Q40: Function taking ptr to 1st elem of block of addrs of students, changes the name of the student at index 2 to \"Jenny\"\n",
    "void change_name_at_index(student22* block_ptr, int idx, char* new_name) {\n",
    "    student22** p_p_s = &block_ptr\n",
    "    strcpy((*p_p_s->name)[idx], new_name)\n",
    "    strcpy((*(*p_p_s + idx)).name, new_name)\n",
    "}\n",
    "\n",
    "int main41() {\n",
    "    //Create a ptr to block of 10 pointers to students\n",
    "    student22** p_block_addr_s = (student22**)malloc(10 * sizeof(student22*))\n",
    "    //student22* is just an address (a number)\n",
    "    //student22 is a character array for the name and an int for an age\n",
    "\n",
    "    //Set the address at index 2 to something valid\n",
    "    p_block_addr_s[2] = (student22*)malloc(sizeof(student22));\n",
    "\n",
    "    //Now, the student at the addr of index 2 is\n",
    "    *(p_block_addr_s[2])\n",
    "\n",
    "    //Therefore the name of the student at addr index 2 is:\n",
    "    *(p_block_addr_s[2]).name;\n",
    "\n",
    "    //Can use strcpy to copy into *(p_block_addr_s[2]).name currently because it's an array\n",
    "    \n",
    "}"
   ]
  }
 ],
 "metadata": {
  "language_info": {
   "name": "python"
  }
 },
 "nbformat": 4,
 "nbformat_minor": 2
}
