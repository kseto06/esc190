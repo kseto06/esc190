{
 "cells": [
  {
   "cell_type": "markdown",
   "metadata": {},
   "source": [
    "## Graphs\n",
    "\n",
    "- A graph G = (V, E) consists of a set of vertices (nodes) V and a set of edges E\n",
    "\n",
    "<img src=\"assets/graph1.png\">\n",
    "\n",
    "Use examples:\n",
    "- Vertices are cities and edges are flights\n",
    "    - Find the best route between cities\n",
    "- Vertices are classes, edges connect classes whose schedules overlap \n",
    "    - Want to find feasible schedules for a student -- i.e. find the node with least connections\n",
    "- Vertice are objects in memory, edges connect objects that refer to each other\n",
    "    - Want to know when an object can be freed\n",
    "\n",
    "### Directed Graphs (Digraphs)\n",
    "- Edges have directions associated with them\n",
    "\n",
    "<img src=\"assets/digraph.png\">"
   ]
  },
  {
   "cell_type": "markdown",
   "metadata": {},
   "source": [
    "### Weighted Graphs\n",
    "- There is a *weight* associated with each edge\n",
    "<br>\n",
    "<br>\n",
    "<img src=\"assets/weighted_graph.png\"> "
   ]
  },
  {
   "cell_type": "markdown",
   "metadata": {},
   "source": [
    "### Terminology:\n",
    "- Vertex `v1` is *adjacent* to vertex `v2` if an edge connects `v1` and `v2`\n",
    "    - There exists an edge `e = (v1, v2) in E`\n",
    "<br>\n",
    "\n",
    "- A *path* is a sequence of vertices in which each vertex is adjacent to the next one\n",
    "    - `p = (v1, ..., vn)` s.t. `(v_i, v_i+1) in E`\n",
    "    - The length of the path is the number of edges in it\n",
    "<br>\n",
    "\n",
    "- A *cycle* in a path is a sequence `(v1, ..., vn) s.t. (v_i, v_i+1) in E` and `(vn, v1) in E`\n",
    "<br>\n",
    "\n",
    "- A graph with no cycles is an *acyclic graph*\n",
    "- A *DAG* is a directed acyclic graph\n",
    "\n",
    "- A *simple path* is a path with no repetition of vertices\n",
    "- A *simple cycle* is a cycle with no repetition of vertices\n",
    "- Two vertices are *connected* if there is a path between them\n",
    "- A subset of vertices is a connected component of G if each pair of vertices in the subset are connected\n",
    "- The *degree* over vertex `v` is the number of edges associated with `v`\n"
   ]
  },
  {
   "cell_type": "markdown",
   "metadata": {},
   "source": [
    "## Stacks (ADT)\n",
    "- LIFO (last in, first out)\n",
    "- A collection of elements\n",
    "- Operations: `push` and `pop`\n",
    "    - `push`: put an element in the stack\n",
    "    - `pop`: Get the last element that was put onto the stack, and then remove the element\n",
    "\n"
   ]
  },
  {
   "cell_type": "code",
   "execution_count": null,
   "metadata": {},
   "outputs": [],
   "source": [
    "class Stack:\n",
    "    def __init__(self):\n",
    "        self.data = []\n",
    "\n",
    "    def push(self, elem: int):\n",
    "        self.data.append(elem)\n",
    "\n",
    "    def pop(self):\n",
    "        return self.data.pop()\n",
    "    \n",
    "if __name__ == '__main__':\n",
    "    s = Stack()\n",
    "    s.push(5)\n",
    "    s.push(10)\n",
    "    print(s.pop())\n",
    "    s.push(15)\n",
    "    print(s.pop())"
   ]
  },
  {
   "cell_type": "markdown",
   "metadata": {},
   "source": [
    "## Graph ADT\n",
    "\n",
    "#### Adjacency Matrix (representing a graph in memory)\n",
    "An `n * n` matrix where `M[i][j] = 1` if there is an edge between `vi` and `vj`, and 0 otherwise \n",
    "\n",
    "<img src=\"assets/adj_matrix1.png\"> \n",
    "<img src=\"assets/adj_matrix2.png\"> "
   ]
  },
  {
   "cell_type": "code",
   "execution_count": 5,
   "metadata": {},
   "outputs": [
    {
     "name": "stdout",
     "output_type": "stream",
     "text": [
      "True\n",
      "[[0. 0. 0. 0.]\n",
      " [0. 0. 1. 0.]\n",
      " [0. 0. 0. 0.]\n",
      " [0. 0. 0. 0.]]\n"
     ]
    }
   ],
   "source": [
    "import numpy as np\n",
    "\n",
    "'''\n",
    "Idea: Store a matrix inside of a graph object, access the matrix when querying edges\n",
    "'''\n",
    "\n",
    "class Graph:\n",
    "    def __init__(self, num_nodes: int):\n",
    "        self.adj_matrix = np.zeros([num_nodes, num_nodes])\n",
    "\n",
    "    def is_edge(self, i, j): #is connected\n",
    "        return self.adj_matrix[i][j] == 1\n",
    "\n",
    "    def put_edge(self, i, j): \n",
    "        self.adj_matrix[i][j] = 1\n",
    "\n",
    "    def remove_edge(self, i, j):\n",
    "        self.adj_matrix[i][j] = 0\n",
    "\n",
    "if __name__ == '__main__':\n",
    "    graph = Graph(4)\n",
    "    graph.put_edge(1, 2)\n",
    "    print(graph.is_edge(1, 2))\n",
    "\n",
    "    print(graph.adj_matrix)"
   ]
  },
  {
   "cell_type": "markdown",
   "metadata": {},
   "source": [
    "#### Adjacency List\n",
    "\n",
    "Adjacency lists store the nodes and their neighbours as linked lists:\n",
    "- For `n = |V|` vertices, `n` linked lists. The `i`<sup>th</sup> is a list of vertices adjacent to `vi`\n",
    "\n",
    "<img src=\"assets/adj_list1.png\"> \n",
    "<img src=\"assets/adj_list2.png\"> "
   ]
  },
  {
   "cell_type": "code",
   "execution_count": null,
   "metadata": {},
   "outputs": [
    {
     "name": "stdout",
     "output_type": "stream",
     "text": [
      "125 -> 123 -> None\n"
     ]
    }
   ],
   "source": [
    "'''\n",
    "- Have the same kind of functions as we have in Graph\n",
    "- Want to represent the data using adjacency list\n",
    "\n",
    "- For each node, keep a list of its neighbours (i.e. nodes connected to it)\n",
    "- Use Linked Lists in order to store the neighbours\n",
    "\n",
    "i.e. \n",
    "    1\n",
    "   /  \\\n",
    "2       3\n",
    "\n",
    "1: 2->3 (could also be 3->2)\n",
    "2: 1\n",
    "3: 1\n",
    "\n",
    "Design: Python list of LLs and nodes\n",
    "- nodes[i] is the LL that contains the neighbours of i\n",
    "- degree d --> the largest possible number of neighbours any node could have\n",
    "'''\n",
    "from typing import List, Any\n",
    "\n",
    "class Node:\n",
    "    def __init__(self, data: Any):\n",
    "        self.data = data\n",
    "        self.next = None\n",
    "\n",
    "class LinkedList:\n",
    "    def __init__(self):\n",
    "        self.head = None\n",
    "\n",
    "    def insert(self, idx: int, data: Any):\n",
    "        new_node = Node(data)\n",
    "        \n",
    "        if self.head is None:\n",
    "            self.head = new_node\n",
    "        else:\n",
    "            if idx == 0:\n",
    "                # Using a swap to insert a new node on the head\n",
    "                self.head, self.head.next = new_node, self.head\n",
    "            else:\n",
    "                # Find the end of the linked list to insert the new node\n",
    "                cur = self.head\n",
    "                for _ in range(idx - 1):\n",
    "                    cur = cur.next\n",
    "                \n",
    "                # Need cur.next = new_node, new_node.next = cur.next (to insert)\n",
    "                cur.next, new_node.next = new_node, cur.next\n",
    "\n",
    "    def is_in(self, data: int) -> bool:\n",
    "        cur = self.head\n",
    "        while cur is not None:\n",
    "\n",
    "            if cur.data == data:\n",
    "                return True\n",
    "            cur = cur.next\n",
    "        return False\n",
    "    \n",
    "    def remove(self, data: int):\n",
    "        # Remove the first node with data = data in the list\n",
    "        if self.head.data == data:\n",
    "            self.head = self.head.next\n",
    "            return \n",
    "        else:\n",
    "            cur = self.head\n",
    "            while cur.next is not None and cur.next.data != data:\n",
    "                cur = cur.next\n",
    "            \n",
    "            if cur.next is None:\n",
    "               raise Exception(\"Error trying to remove\", data)\n",
    "\n",
    "            cur.next = cur.next.next \n",
    "\n",
    "    def print(self):\n",
    "        cur = self.head\n",
    "\n",
    "        while cur is not None:\n",
    "            print(cur.data, \"-> \", end = \"\")\n",
    "            cur = cur.next\n",
    "\n",
    "        print(\"None\")\n",
    "\n",
    "class AdjacencyList:\n",
    "    def __init__(self, num_nodes: int):\n",
    "        self.nodes: List[LinkedList] = []\n",
    "\n",
    "        for _ in range(num_nodes):\n",
    "            self.nodes.append(LinkedList())\n",
    "\n",
    "    def is_edge(self, i, j):\n",
    "        # self.nodes[i] is the list of the neighbours of node i\n",
    "        return self.nodes[i].is_in(j)\n",
    "    \n",
    "    def put_edge(self, i, j): #O(1)\n",
    "        self.nodes[i].insert(0, j)\n",
    "\n",
    "    def remove_edge(self, i, j): #O(d)\n",
    "        self.nodes[i].remove(j)\n",
    "        '''\n",
    "        NOTE:\n",
    "        if user is allowed to call put_edge(1, 2) twice, need to either\n",
    "        take care of it inside put_edge or inside remove_edge\n",
    "        '''\n",
    "\n",
    "if __name__ == '__main__':\n",
    "    LL = LinkedList()\n",
    "    LL.insert(0, 123)\n",
    "    LL.insert(0, 125)\n",
    "    LL.print()"
   ]
  },
  {
   "cell_type": "markdown",
   "metadata": {},
   "source": [
    "### Time Complexity\n",
    "\n",
    "- Operations:\n",
    "    - Checking for an edge between `vi` and `vj`:\n",
    "        - Adjacency Matrix: `O(1)`\n",
    "        - Adjacency List: `O(d)`\n",
    "            - d: The maximum degree in the graph (max number of edges that goes out of the node)\n",
    "    - Finding all vertices adjacent to `vi`\n",
    "        - Adjacency Matrix: `O(|V|)`\n",
    "            - `|V|`: The number of vertices in the graph\n",
    "        - Adjacency List: `O(d)`"
   ]
  },
  {
   "cell_type": "markdown",
   "metadata": {},
   "source": [
    "### Space Requirements\n",
    "- Adjacency Matrix: `O(|V|`<sup>2</sup>`)`\n",
    "    - Need to store `|V|`<sup>2</sup> matrix entries\n",
    "- Adjacency List: `O(|V| + |E|)`\n",
    "    - Need to store `|V|` linked lists. Collectively, the linked list contains `|E|` entries, so the space requirement is `a`<sub>1</sub>`|V|` + `a`<sub>2</sub>`|E|`, which is `O(|V| + |E|)`"
   ]
  },
  {
   "cell_type": "markdown",
   "metadata": {},
   "source": [
    "## Graph Traversal\n",
    "- Want to visit (ex: in order to print) each vertex exactly once\n",
    "\n",
    "<img src=\"assets/graph_traversal.png\"> \n",
    "\n",
    "### Algorithm:\n",
    "```python\n",
    "while (there are non-visited nodes):\n",
    "    initialize data structure DS\n",
    "    Add a non-visited vertex vi to DS\n",
    "    Mark vi as visited\n",
    "    while (DS is not empty):\n",
    "        Remove vj from DS\n",
    "        Mark vj as visited\n",
    "        Add non-visited vertices adjacent to vj to DS\n",
    "```"
   ]
  },
  {
   "cell_type": "markdown",
   "metadata": {},
   "source": [
    "### Breadth-First Traversal\n",
    "- Used when DS is a **QUEUE**\n",
    "\n",
    "<img src=\"assets/BFT.png\"> "
   ]
  },
  {
   "cell_type": "markdown",
   "metadata": {},
   "source": [
    "### Depth-First Traversal\n",
    "- Used when DS is a **STACK**\n",
    "\n",
    "<img src=\"assets/DFT.png\"> "
   ]
  },
  {
   "cell_type": "markdown",
   "metadata": {},
   "source": [
    "### Recursive Depth-First Traversal\n",
    "```python\n",
    "DFS(vi)\n",
    "    Mark vi as visited\n",
    "    \n",
    "    for each non-visited vertex vj adjacent to vi:\n",
    "        DFS(vj)\n",
    "```"
   ]
  }
 ],
 "metadata": {
  "kernelspec": {
   "display_name": "Python 3",
   "language": "python",
   "name": "python3"
  },
  "language_info": {
   "codemirror_mode": {
    "name": "ipython",
    "version": 3
   },
   "file_extension": ".py",
   "mimetype": "text/x-python",
   "name": "python",
   "nbconvert_exporter": "python",
   "pygments_lexer": "ipython3",
   "version": "3.12.5"
  }
 },
 "nbformat": 4,
 "nbformat_minor": 2
}
