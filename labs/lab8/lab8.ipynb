{
 "cells": [
  {
   "cell_type": "markdown",
   "metadata": {},
   "source": [
    "### Question 2"
   ]
  },
  {
   "cell_type": "markdown",
   "metadata": {},
   "source": [
    "a)\n",
    "\n",
    "```c\n",
    "mincost(t) = 1 + min(mincost(t - d1), mincost(t-d2), ..., mincost(t-dn))\n",
    "```"
   ]
  },
  {
   "cell_type": "code",
   "execution_count": 1,
   "metadata": {},
   "outputs": [
    {
     "name": "stdout",
     "output_type": "stream",
     "text": [
      "[-1, 1, 2, 3, 1, 2, 3, 1, 2, 3, 1]\n",
      "(4, [1, 3, 3, 3])\n"
     ]
    }
   ],
   "source": [
    "from typing import List, Tuple\n",
    "\n",
    "def mincost(d: List[int], t: int) -> Tuple[int, List[int]]:\n",
    "    OPT = [float('inf')] * (t + 1)\n",
    "    OPT[0] = 0\n",
    "    coins_used = [-1] * (t + 1)\n",
    "    \n",
    "    # Fill the OPT array\n",
    "    for amount in range(1, t + 1):\n",
    "        for coin in d:\n",
    "            if amount - coin >= 0:  # If this coin can be used for the current amount\n",
    "                # Check whether using the current coin results in a smaller number of coins (a better solution) to reach the current amount\n",
    "                if OPT[amount - coin] + 1 < OPT[amount]: \n",
    "                    OPT[amount] = OPT[amount - coin] + 1 # Store the min cost\n",
    "                    coins_used[amount] = coin  # Record the coin used\n",
    "    \n",
    "    # Backtracking to find the coins used\n",
    "    print(coins_used)\n",
    "    coins = []\n",
    "    amount = t\n",
    "    while amount > 0:\n",
    "        coin = coins_used[amount] \n",
    "        coins.append(coin)\n",
    "        amount -= coin  \n",
    "    \n",
    "    return OPT[t], coins\n",
    "\n",
    "# Example usage:\n",
    "denominations = [1, 2, 3]\n",
    "target = 10\n",
    "result = mincost(denominations, target)\n",
    "print(result)\n"
   ]
  },
  {
   "cell_type": "markdown",
   "metadata": {},
   "source": [
    "### Question 3"
   ]
  },
  {
   "cell_type": "code",
   "execution_count": null,
   "metadata": {},
   "outputs": [
    {
     "name": "stdout",
     "output_type": "stream",
     "text": [
      "True\n",
      "False\n"
     ]
    }
   ],
   "source": [
    "from typing import List\n",
    "\n",
    "def canBeSegmented(s: str, wordDict: List[str]) -> bool:\n",
    "    # If s becomes empty, the string has been succesfully segmented\n",
    "    if not s: \n",
    "        return True\n",
    "\n",
    "    # Check every possible prefix of s\n",
    "    for i in range(1, len(s) + 1):\n",
    "        if s[:i] in wordDict and canBeSegmented(s[i:], wordDict): #Check if in the dict and segment rest of the word\n",
    "            return True\n",
    "        \n",
    "    return False\n",
    "\n",
    "s1 = \"applepenapple\"\n",
    "wordDict1 = [\"apple\", \"pen\"]\n",
    "print(canBeSegmented(s1, wordDict1))\n",
    "\n",
    "s2 = \"catsandog\"\n",
    "wordDict2 = [\"cats\", \"dog\", \"sand\", \"and\", \"cat\"]\n",
    "print(canBeSegmented(s2, wordDict2)) "
   ]
  }
 ],
 "metadata": {
  "kernelspec": {
   "display_name": "Python 3",
   "language": "python",
   "name": "python3"
  },
  "language_info": {
   "codemirror_mode": {
    "name": "ipython",
    "version": 3
   },
   "file_extension": ".py",
   "mimetype": "text/x-python",
   "name": "python",
   "nbconvert_exporter": "python",
   "pygments_lexer": "ipython3",
   "version": "3.12.5"
  }
 },
 "nbformat": 4,
 "nbformat_minor": 2
}
