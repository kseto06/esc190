{
 "cells": [
  {
   "cell_type": "markdown",
   "id": "ad1b5238",
   "metadata": {},
   "source": [
    "## Question 1"
   ]
  },
  {
   "cell_type": "code",
   "execution_count": null,
   "id": "84167a8b",
   "metadata": {
    "vscode": {
     "languageId": "c"
    }
   },
   "outputs": [
    {
     "name": "stdout",
     "output_type": "stream",
     "text": [
      "Overwriting 2023.c\n"
     ]
    }
   ],
   "source": [
    "%%file 2023.c\n",
    "\n",
    "#include <stdio.h>\n",
    "\n",
    "double fact(int n) {\n",
    "    if (n <= 1) {\n",
    "        return n;\n",
    "    } else {\n",
    "        return n * fact(n-1);\n",
    "    }\n",
    "}\n",
    "\n",
    "int main() {\n",
    "    printf(\"%f\\n\", fact(5));\n",
    "    return 0;\n",
    "}\n",
    "\n",
    "//Time complexity: O(n)"
   ]
  },
  {
   "cell_type": "code",
   "execution_count": 4,
   "id": "155a6b2d",
   "metadata": {},
   "outputs": [
    {
     "name": "stdout",
     "output_type": "stream",
     "text": [
      "120.000000\n"
     ]
    }
   ],
   "source": [
    "%%bash\n",
    "gcc 2023.c -g -o 2023\n",
    "./2023"
   ]
  },
  {
   "cell_type": "markdown",
   "id": "2b2ee4dd",
   "metadata": {},
   "source": [
    "## Question 2"
   ]
  },
  {
   "cell_type": "code",
   "execution_count": null,
   "id": "f24298fa",
   "metadata": {
    "vscode": {
     "languageId": "c"
    }
   },
   "outputs": [
    {
     "name": "stdout",
     "output_type": "stream",
     "text": [
      "Overwriting 2023.c\n"
     ]
    }
   ],
   "source": [
    "%%file 2023.c\n",
    "\n",
    "#include <stdio.h>\n",
    "#include <stdlib.h>\n",
    "#include <string.h>\n",
    "#include <ctype.h>\n",
    "\n",
    "void replace_ws(char *s) {\n",
    "    char checker[256];\n",
    "\n",
    "    for (int i = 0; s[i] != '\\0'; i++) {\n",
    "        if (isalpha(s[i])) {\n",
    "            char temp[2] = {s[i], '\\0'};\n",
    "            strcat(checker, temp);\n",
    "            \n",
    "            if (strcmp(checker, \"winter\") == 0) {\n",
    "                s[i] = 'r';\n",
    "                s[i - 1] = 'e';\n",
    "                s[i - 2] = 'm';\n",
    "                s[i - 3] = 'm';\n",
    "                s[i - 4] = 'u';\n",
    "                s[i - 5]= 's';\n",
    "                strcpy(checker, \"\");\n",
    "            }\n",
    "            \n",
    "        } else {\n",
    "            strcpy(checker, \"\");\n",
    "        }\n",
    "    }\n",
    "}\n",
    "\n",
    "int main() {\n",
    "    char s[] = \"In the winter,, I will rest and enjoy the sun. Winter is great! Wait, actually I mean winter.\";\n",
    "    replace_ws(s);\n",
    "    printf(\"%s\\n\", s);\n",
    "\n",
    "    return 0;\n",
    "}"
   ]
  },
  {
   "cell_type": "code",
   "execution_count": 26,
   "id": "03d99194",
   "metadata": {},
   "outputs": [
    {
     "name": "stdout",
     "output_type": "stream",
     "text": [
      "In the summer,, I will rest and enjoy the sun. Winter is great! Wait, actually I mean summer.\n"
     ]
    }
   ],
   "source": [
    "%%bash\n",
    "gcc 2023.c -g -o 2023\n",
    "./2023"
   ]
  },
  {
   "cell_type": "markdown",
   "id": "0db5f8b3",
   "metadata": {},
   "source": [
    "## Question 3"
   ]
  },
  {
   "cell_type": "code",
   "execution_count": null,
   "id": "30d2285f",
   "metadata": {
    "vscode": {
     "languageId": "c"
    }
   },
   "outputs": [
    {
     "name": "stdout",
     "output_type": "stream",
     "text": [
      "Overwriting 2023.c\n"
     ]
    }
   ],
   "source": [
    "%%writefile 2023.c\n",
    "\n",
    "#include <stdio.h>\n",
    "#include <string.h>\n",
    "\n",
    "int check_array_equal(int arr1[], int arr2[], int sz1, int sz2) {\n",
    "    // Base cases:\n",
    "    if (sz1 != sz2 || (arr1[sz1-1] != arr2[sz2-1] && sz1 == 0 && sz2 == 0)) {\n",
    "        return -1;\n",
    "    } else if (arr1[sz1-1] == arr2[sz2-1] && sz1 == 0 && sz2 == 0) {\n",
    "        return 0;\n",
    "    } else {\n",
    "        sz1--;\n",
    "        sz2--;\n",
    "        int new_arr1[sz1];\n",
    "        int new_arr2[sz2];\n",
    "        memcpy(new_arr1, arr1, sz1 * sizeof(int));\n",
    "        memcpy(new_arr2, arr2, sz2 * sizeof(int));\n",
    "\n",
    "        return check_array_equal(new_arr1, new_arr2, sz1, sz2);\n",
    "    }\n",
    "}\n",
    "\n",
    "int main() {\n",
    "    int arr1[] = {7, 8, 9};\n",
    "    int arr2[] = {7, 8, 9};\n",
    "    int arr3[] = {7, 8};\n",
    "\n",
    "    printf(\"%d\\n\", check_array_equal(arr1, arr3, 3, 2));\n",
    "\n",
    "    return 0;\n",
    "}\n"
   ]
  },
  {
   "cell_type": "code",
   "execution_count": 36,
   "id": "2ad94642",
   "metadata": {},
   "outputs": [
    {
     "name": "stdout",
     "output_type": "stream",
     "text": [
      "-1\n"
     ]
    }
   ],
   "source": [
    "%%bash\n",
    "gcc 2023.c -g -o 2023\n",
    "./2023"
   ]
  },
  {
   "cell_type": "markdown",
   "id": "23171402",
   "metadata": {},
   "source": [
    "## Question 4"
   ]
  },
  {
   "cell_type": "code",
   "execution_count": null,
   "id": "be534f1f",
   "metadata": {
    "vscode": {
     "languageId": "c"
    }
   },
   "outputs": [],
   "source": [
    "%%file 2023.c\n",
    "\n",
    "#include <stdlib.h>\n",
    "#include <stdio.h>\n",
    "#include <string.h>\n",
    "\n",
    "typedef struct node{\n",
    "    int data;\n",
    "    struct node *next;\n",
    "} node;\n",
    "\n",
    "typedef struct LL{\n",
    "    node *head;\n",
    "    int size;\n",
    "} LL;\n",
    "\n",
    "// append integer new_elem to linked list my_list\n",
    "void LL_append(LL *my_list, int new_val, int i) {\n",
    "    node *new = (node *)malloc(sizeof(node));\n",
    "    new->data = new_val;\n",
    "    new->next = NULL;\n",
    "\n",
    "    if (i == 0) {\n",
    "        new->next = my_list->head;\n",
    "        my_list->head = new;\n",
    "    } else {\n",
    "        node *cur = my_list->head;\n",
    "\n",
    "        for (int pos = 0; pos < i - 1 && cur != NULL; pos++) { \n",
    "            cur = cur->next;\n",
    "        }\n",
    "\n",
    "        new->next = cur->next;\n",
    "        cur->next = new;\n",
    "    }\n",
    "\n",
    "    my_list->size++;\n",
    "}\n",
    "\n",
    "int main() {\n",
    "    node* node1 = malloc(sizeof(node));\n",
    "    node* node2 = malloc(sizeof(node));\n",
    "    node* node3 = malloc(sizeof(node));\n",
    "    node1->data = 10; node1->next = node2;\n",
    "    node2->data = 20; node2->next = node3;\n",
    "    node3->data = 30; node3->next = NULL;\n",
    "\n",
    "    LL my_list;\n",
    "    my_list.head = node1;\n",
    "    my_list.size = 3;\n",
    "\n",
    "    LL_append(&my_list, 42, 1); // Insert 42 at index 1\n",
    "\n",
    "    node *cur = my_list.head;\n",
    "    while (cur != NULL) {\n",
    "        printf(\"%d -> \", cur->data);\n",
    "        cur = cur->next;\n",
    "    }\n",
    "    printf(\"NULL\\n\");\n",
    "\n",
    "    // Free memory\n",
    "    cur = my_list.head;\n",
    "    while (cur != NULL) {\n",
    "        node* temp = cur;\n",
    "        cur = cur->next;\n",
    "        free(temp);\n",
    "    }\n",
    "\n",
    "    return 0;\n",
    "}\n"
   ]
  },
  {
   "cell_type": "code",
   "execution_count": null,
   "id": "36492ffe",
   "metadata": {},
   "outputs": [],
   "source": [
    "%%bash\n",
    "gcc 2023.c -g -o 2023\n",
    "./2023"
   ]
  },
  {
   "cell_type": "markdown",
   "id": "9daf9f5e",
   "metadata": {},
   "source": [
    "## Question 5:"
   ]
  },
  {
   "cell_type": "code",
   "execution_count": null,
   "id": "4d16e6af",
   "metadata": {},
   "outputs": [],
   "source": [
    "%%file matrix.h\n",
    "\n",
    "typedef struct Matrix {\n",
    "    int n;\n",
    "    int m;\n",
    "    int matrix[][];\n",
    "}\n",
    "\n",
    "int getElem(Matrix m, int i, int j);\n",
    "int setElem(Matrix m, int i, int j, int elem);\n",
    "int sum(Matrix m, Matrix m);"
   ]
  },
  {
   "cell_type": "code",
   "execution_count": 54,
   "id": "081812ba",
   "metadata": {},
   "outputs": [
    {
     "name": "stdout",
     "output_type": "stream",
     "text": [
      "Overwriting matrix.c\n"
     ]
    }
   ],
   "source": [
    "%%file matrix.c\n",
    "\n",
    "#include <stdio.h>\n",
    "#include <stdlib.h>\n",
    "\n",
    "typedef struct Matrix {\n",
    "    int n;\n",
    "    int m;\n",
    "    int **matrix;\n",
    "} Matrix;\n",
    "\n",
    "int getElem(Matrix m, int i, int j) {\n",
    "    return m.matrix[i][j];\n",
    "}\n",
    "\n",
    "void setElem(Matrix m, int i, int j, int elem) {\n",
    "    m.matrix[i][j] = elem;\n",
    "}\n",
    "\n",
    "Matrix sum(Matrix matrix1, Matrix matrix2) {\n",
    "    Matrix result;\n",
    "    int m = matrix1.m, n = matrix1.n;\n",
    "    result.m = m;\n",
    "    result.n = n;\n",
    "    result.matrix = (int **)malloc(m * sizeof(int *));\n",
    "\n",
    "    for (int i = 0; i < m; i++) {\n",
    "        result.matrix[i] = (int *)malloc(n * sizeof(int));\n",
    "    }\n",
    "\n",
    "    for (int row = 0; row < m; row++) {\n",
    "        for (int col = 0; col < n; col++) {\n",
    "            result.matrix[row][col] = matrix1.matrix[row][col] + matrix2.matrix[row][col];\n",
    "        }\n",
    "    }\n",
    "\n",
    "    return result;\n",
    "}\n",
    "\n",
    "void printMatrix(Matrix m) {\n",
    "    for (int i = 0; i < m.m; i++) {\n",
    "        for (int j = 0; j < m.n; j++) {\n",
    "            printf(\"%d \", m.matrix[i][j]);\n",
    "        }\n",
    "        printf(\"\\n\");\n",
    "    }\n",
    "}\n",
    "\n",
    "int main() {\n",
    "    Matrix m1;\n",
    "    m1.m = 2; \n",
    "    m1.n = 2; \n",
    "\n",
    "    m1.matrix = (int **)malloc(m1.m * sizeof(int *));\n",
    "\n",
    "    for (int i = 0; i < m1.m; i++) {\n",
    "        m1.matrix[i] = (int *)malloc(m1.n * sizeof(int));\n",
    "    }\n",
    "\n",
    "    m1.matrix[0][0] = 1;\n",
    "    m1.matrix[0][1] = -1;\n",
    "    m1.matrix[1][0] = 2;\n",
    "    m1.matrix[1][1] = 0;\n",
    "\n",
    "    Matrix m2;\n",
    "    m2.m = 2; \n",
    "    m2.n = 2; \n",
    "\n",
    "    m2.matrix = (int **)malloc(m2.m * sizeof(int *));\n",
    "\n",
    "    for (int i = 0; i < m2.m; i++) {\n",
    "        m2.matrix[i] = (int *)malloc(m2.n * sizeof(int));\n",
    "    }\n",
    "\n",
    "    m2.matrix[0][0] = -1;\n",
    "    m2.matrix[0][1] = 2;\n",
    "    m2.matrix[1][0] = 0;\n",
    "    m2.matrix[1][1] = 1;\n",
    "\n",
    "    printf(\"%d\\n\", getElem(m1, 0, 0));\n",
    "    printf(\"\\n\");\n",
    "\n",
    "    Matrix res = sum(m1, m2);\n",
    "    printMatrix(res);\n",
    "    printf(\"\\n\");\n",
    "\n",
    "    setElem(res, 0, 0, 69);\n",
    "    printMatrix(res);\n",
    "    return 0;\n",
    "}"
   ]
  },
  {
   "cell_type": "code",
   "execution_count": 55,
   "id": "37824690",
   "metadata": {},
   "outputs": [
    {
     "name": "stdout",
     "output_type": "stream",
     "text": [
      "1\n",
      "\n",
      "0 1 \n",
      "2 1 \n",
      "\n",
      "69 1 \n",
      "2 1 \n"
     ]
    }
   ],
   "source": [
    "%%bash\n",
    "gcc matrix.c -g -o matrix\n",
    "./matrix"
   ]
  },
  {
   "cell_type": "markdown",
   "id": "4188045c",
   "metadata": {},
   "source": [
    "## Question 6"
   ]
  },
  {
   "cell_type": "code",
   "execution_count": null,
   "id": "24978d2a",
   "metadata": {},
   "outputs": [
    {
     "name": "stdout",
     "output_type": "stream",
     "text": [
      "[('bi', 5), ('hi', 10), ('ci', 15)]\n",
      "('bi', 5)\n",
      "[('hi', 10), ('ci', 15)]\n"
     ]
    }
   ],
   "source": [
    "from typing import Any\n",
    "\n",
    "class PriorityQueue:\n",
    "    def __init__(self):\n",
    "        self.array = []\n",
    "\n",
    "    def sort(self):\n",
    "        self.array.sort(key=lambda x: x[1])\n",
    "\n",
    "    def insert(self, x: Any, p: int):\n",
    "        self.array.append((x, p))\n",
    "        self.sort()\n",
    "\n",
    "    def extract_min(self):\n",
    "        self.sort()\n",
    "        return self.array.pop(0)\n",
    "\n",
    "if __name__ == '__main__':\n",
    "    pq = PriorityQueue()\n",
    "    pq.insert(\"hi\", 10)\n",
    "    pq.insert(\"bi\", 5)\n",
    "    pq.insert(\"ci\", 15)\n",
    "    print(pq.array)\n",
    "\n",
    "    print(pq.extract_min())\n",
    "    print(pq.array)\n"
   ]
  },
  {
   "cell_type": "markdown",
   "id": "57b153d8",
   "metadata": {},
   "source": [
    "## Question 7"
   ]
  },
  {
   "cell_type": "code",
   "execution_count": 70,
   "id": "5962cada",
   "metadata": {},
   "outputs": [
    {
     "name": "stdout",
     "output_type": "stream",
     "text": [
      "[[20, -20], [1, 3], [5, 4, 6]]\n"
     ]
    }
   ],
   "source": [
    "from typing import List\n",
    "\n",
    "class MyList:\n",
    "    def __init__(self, array: List):\n",
    "        self.array = array\n",
    "\n",
    "def sorted(my_lists: List[MyList]):\n",
    "    my_lists.sort(key=lambda x: sum(x.array) / len(x.array))\n",
    "    return [list.array for list in my_lists]\n",
    "\n",
    "my_lists = [MyList([1, 3]), MyList([5, 4, 6]), MyList([20, -20])]\n",
    "print(sorted(my_lists))"
   ]
  },
  {
   "cell_type": "markdown",
   "id": "dbc44f7c",
   "metadata": {},
   "source": [
    "## Question 9\n",
    "\n",
    "```c\n",
    "mincost(t) = 1 + min(mincost(t - d1), mincost(t-d2), ..., mincost(t-dn))\n",
    "```\n",
    "\n"
   ]
  },
  {
   "cell_type": "code",
   "execution_count": null,
   "id": "a2f9c6a3",
   "metadata": {},
   "outputs": [
    {
     "data": {
      "text/plain": [
       "[3, 1, 3]"
      ]
     },
     "execution_count": 74,
     "metadata": {},
     "output_type": "execute_result"
    }
   ],
   "source": [
    "import heapq\n",
    "\n",
    "def dijkstra(cost: List):\n",
    "    end = len(cost)\n",
    "    dist = [float('inf')] * end\n",
    "    prev = [-1] * end\n",
    "    dist[0] = cost[0]\n",
    "\n",
    "    heap = [(cost[0], 0)]\n",
    "\n",
    "    for step in [1, 2, 3]:\n",
    "        next_idx = step - 1\n",
    "        if next_idx < end:\n",
    "            dist[next_idx] = cost[next_idx]\n",
    "            prev[next_idx] = -1\n",
    "            heapq.heappush(heap, (cost[next_idx], next_idx))\n",
    "\n",
    "    while heap: \n",
    "        total_cost, idx = heapq.heappop(heap)\n",
    "\n",
    "        for step in [1, 2, 3]:\n",
    "            next_idx = idx + step\n",
    "\n",
    "            if next_idx < end:\n",
    "                new_cost = total_cost + cost[next_idx]\n",
    "\n",
    "                if new_cost < dist[next_idx]:\n",
    "                    dist[next_idx] = new_cost\n",
    "                    prev[next_idx] = idx\n",
    "                    heapq.heappush(heap, (new_cost, next_idx))\n",
    "\n",
    "    # backtracking\n",
    "    path = []\n",
    "    cur = end - 1\n",
    "    while cur != -1:\n",
    "        path.append(cur)\n",
    "        cur = prev[cur]\n",
    "    path.reverse()\n",
    "\n",
    "    steps = []\n",
    "    prev_idx = -1\n",
    "    for i in path:\n",
    "        steps.append(i - prev_idx)\n",
    "        prev_idx = i\n",
    "\n",
    "    return steps\n",
    "\n",
    "dijkstra([100, 100, 1, 1, 100, 100, 100])"
   ]
  },
  {
   "cell_type": "code",
   "execution_count": null,
   "id": "5c91888e",
   "metadata": {},
   "outputs": [
    {
     "data": {
      "text/plain": [
       "[1, 2, 3]"
      ]
     },
     "execution_count": 49,
     "metadata": {},
     "output_type": "execute_result"
    }
   ],
   "source": [
    "def min_cost_path(cost):\n",
    "    n = len(cost)\n",
    "    dp = [0] * n\n",
    "    prev = [-1] * n\n",
    "\n",
    "    # Base cases\n",
    "    dp[0] = cost[0]\n",
    "    prev[0] = -1\n",
    "\n",
    "    if n > 1:\n",
    "        dp[1] = cost[1]\n",
    "        if cost[1] < cost[0]:\n",
    "            prev[1] = -1\n",
    "        else:\n",
    "            prev[1] = 0\n",
    "\n",
    "    if n > 2:\n",
    "        dp[2] = cost[2]\n",
    "        min_prev = min((dp[0], 0), (dp[1], 1), key=lambda x: x[0])\n",
    "        dp[2] += min_prev[0]\n",
    "        prev[2] = min_prev[1]\n",
    "\n",
    "    # Fill the rest\n",
    "    for i in range(3, n):\n",
    "        min_prev = min((dp[i-1], i-1), (dp[i-2], i-2), (dp[i-3], i-3), key=lambda x: x[0])\n",
    "        dp[i] = cost[i] + min_prev[0]\n",
    "        prev[i] = min_prev[1]\n",
    "\n",
    "    # Reconstruct path\n",
    "    path = []\n",
    "    i = n - 1\n",
    "    while i != -1:\n",
    "        path.append(i)\n",
    "        i = prev[i]\n",
    "    path.reverse()\n",
    "\n",
    "    differences = []\n",
    "    for i in range(1, len(path)):\n",
    "        differences.append(path[i] - path[i-1])\n",
    "\n",
    "    return differences\n",
    "\n",
    "min_cost_path([100, 100, 1, 1, 100, 100, 100])"
   ]
  },
  {
   "cell_type": "code",
   "execution_count": null,
   "id": "372a112c",
   "metadata": {},
   "outputs": [
    {
     "name": "stdout",
     "output_type": "stream",
     "text": [
      "9\n"
     ]
    },
    {
     "data": {
      "text/plain": [
       "[3, 3, 3, 3, 3, 3, 3, 3, 1]"
      ]
     },
     "execution_count": 41,
     "metadata": {},
     "output_type": "execute_result"
    }
   ],
   "source": [
    "def get_list(n: int):\n",
    "    total = n\n",
    "    choices = []\n",
    "\n",
    "    def mincost(total: int = n) -> int:\n",
    "        d1, d2, d3 = 1, 2, 3\n",
    "\n",
    "        def recursion(total: int = total):\n",
    "            # Base case: total <= 0:\n",
    "            if total <= 0:\n",
    "                return 0\n",
    "            #Recursive step: decrease total via greedy algorithm\n",
    "            else:\n",
    "                options = [(recursion(total - d1), d1), (recursion(total - d2), d2), (recursion(total - d3), d3)]\n",
    "                minimized, choice = min(options, key=lambda x: x[0])\n",
    "                choices.append(choice)\n",
    "                return 1 + minimized\n",
    "            \n",
    "        return recursion(total)\n",
    "    \n",
    "    print(mincost(total=total))\n",
    "    choices = sorted(choices, reverse=True)\n",
    "    \n",
    "    # Backtrack using the best choices\n",
    "    result = []\n",
    "    for num in choices:\n",
    "        if total > 0:\n",
    "            if total - num < 0:\n",
    "                continue\n",
    "            else:\n",
    "                total -= num\n",
    "                result.append(num)\n",
    "        else:\n",
    "            break\n",
    "\n",
    "    return result\n",
    "\n",
    "get_list(n=25)"
   ]
  },
  {
   "cell_type": "markdown",
   "id": "d101f1a6",
   "metadata": {},
   "source": [
    "## Question 10"
   ]
  },
  {
   "cell_type": "code",
   "execution_count": 6,
   "id": "aa8f6c94",
   "metadata": {},
   "outputs": [
    {
     "data": {
      "text/plain": [
       "(6,\n",
       " ['Michael Faraday',\n",
       "  'Ada Lovelace',\n",
       "  'Charles Babbage',\n",
       "  'Isaac Newton',\n",
       "  'Carl Gauss',\n",
       "  'Gottfried Leibniz'])"
      ]
     },
     "execution_count": 6,
     "metadata": {},
     "output_type": "execute_result"
    }
   ],
   "source": [
    "def longest_friendship_chain(friends):\n",
    "    stack = []\n",
    "    maxLength = -1 \n",
    "    maxChain = []\n",
    "\n",
    "    for friend in friends:\n",
    "        stack.append([friend,[friend]])\n",
    "\n",
    "    while stack:\n",
    "        curr_friend, curr_chain = stack.pop()\n",
    "\n",
    "        # Always update max chain here\n",
    "        if len(curr_chain) > maxLength:\n",
    "            maxLength = len(curr_chain)\n",
    "            maxChain = curr_chain\n",
    "\n",
    "        for neighbour in friends[curr_friend]:\n",
    "            if neighbour not in curr_chain:\n",
    "                stack.append([neighbour, curr_chain + [neighbour]])\n",
    "        \n",
    "    return maxLength, maxChain\n",
    "\n",
    "friends = {\"Carl Gauss\": [\"Isaac Newton\", \"Gottfried Leibniz\", \"Charles Babbage\"],\n",
    "\"Gottfried Leibniz\": [\"Carl Gauss\"],\n",
    "\"Isaac Newton\": [\"Carl Gauss\", \"Charles Babbage\"],\n",
    "\"Ada Lovelace\": [\"Charles Babbage\", \"Michael Faraday\"],\n",
    "\"Charles Babbage\": [\"Isaac Newton\", \"Carl Gauss\", \"Ada Lovelace\"],\n",
    "\"Michael Faraday\": [\"Ada Lovelace\"] }\n",
    "longest_friendship_chain(friends)"
   ]
  }
 ],
 "metadata": {
  "kernelspec": {
   "display_name": "Python 3",
   "language": "python",
   "name": "python3"
  },
  "language_info": {
   "codemirror_mode": {
    "name": "ipython",
    "version": 3
   },
   "file_extension": ".py",
   "mimetype": "text/x-python",
   "name": "python",
   "nbconvert_exporter": "python",
   "pygments_lexer": "ipython3",
   "version": "3.12.5"
  }
 },
 "nbformat": 4,
 "nbformat_minor": 5
}
