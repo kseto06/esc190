{
 "cells": [
  {
   "cell_type": "markdown",
   "id": "8c6fc0fc",
   "metadata": {},
   "source": [
    "## Question 1"
   ]
  },
  {
   "cell_type": "code",
   "execution_count": 11,
   "id": "64767e8c",
   "metadata": {},
   "outputs": [
    {
     "name": "stdout",
     "output_type": "stream",
     "text": [
      "Overwriting 2024.c\n"
     ]
    }
   ],
   "source": [
    "%%file 2024.c\n",
    "\n",
    "#include <stdio.h>\n",
    "\n",
    "void sort(int *arr, int sz) {\n",
    "    for (int i = 0; i < sz - 1; i++) {\n",
    "        for (int j = 0; j < sz - i - 1; j++) {\n",
    "            if (arr[j] > arr[j+1]) {\n",
    "                int temp = arr[j];\n",
    "                arr[j] = arr[j+1];\n",
    "                arr[j+1] = temp;\n",
    "            }\n",
    "        }\n",
    "    }\n",
    "}\n",
    "\n",
    "int my_median(int *arr, int sz) {\n",
    "    sort(arr, sz);\n",
    "\n",
    "    return arr[(int)(sz/2)];\n",
    "}\n",
    "\n",
    "int main() {\n",
    "    int arr[] = {3, 1, 2, 5, 4};\n",
    "    printf(\"%d\\n\", my_median(arr, 5));\n",
    "}\n",
    "\n",
    "# Time complexity of bubble sort is O(n^2)"
   ]
  },
  {
   "cell_type": "code",
   "execution_count": 12,
   "id": "aab5ffb4",
   "metadata": {},
   "outputs": [
    {
     "name": "stdout",
     "output_type": "stream",
     "text": [
      "3\n"
     ]
    }
   ],
   "source": [
    "%%bash\n",
    "gcc 2024.c -g -o 2024\n",
    "./2024"
   ]
  },
  {
   "cell_type": "markdown",
   "id": "a5d6eef6",
   "metadata": {},
   "source": [
    "## Question 2"
   ]
  },
  {
   "cell_type": "code",
   "execution_count": 22,
   "id": "0af784fd",
   "metadata": {
    "vscode": {
     "languageId": "c"
    }
   },
   "outputs": [
    {
     "name": "stdout",
     "output_type": "stream",
     "text": [
      "Overwriting 2024.c\n"
     ]
    }
   ],
   "source": [
    "%%file 2024.c\n",
    "\n",
    "#include <stdio.h>\n",
    "\n",
    "void count_letters(char *s, int counts[]) {\n",
    "    const char letters[] = {'a', 'b', 'c', 'd', 'e', 'f', 'g', 'h', 'i', 'j', \n",
    "    'k', 'l', 'm', 'n', 'o', 'p', 'q', 'r', 's', 't', 'u', 'v', 'w', 'x', 'y', 'z'};\n",
    "\n",
    "    while (*s != '\\0') {\n",
    "        for (int i = 0; i < sizeof(letters)/sizeof(char); i++) {\n",
    "            if (*s == letters[i]) {\n",
    "                counts[i]++;\n",
    "            }\n",
    "        }\n",
    "        s++;\n",
    "    }\n",
    "}\n",
    "\n",
    "int main() {\n",
    "    char *s = \"abc\";\n",
    "    int counts[26] = {0};\n",
    "    count_letters(s, counts);\n",
    "    for (int i = 0; i < 26; i++) {\n",
    "        printf(\"%d, \", counts[i]);\n",
    "    }\n",
    "\n",
    "    return 0;\n",
    "}"
   ]
  },
  {
   "cell_type": "code",
   "execution_count": 23,
   "id": "d95b92a7",
   "metadata": {},
   "outputs": [
    {
     "name": "stdout",
     "output_type": "stream",
     "text": [
      "1, 1, 1, 0, 0, 0, 0, 0, 0, 0, 0, 0, 0, 0, 0, 0, 0, 0, 0, 0, 0, 0, 0, 0, 0, 0, "
     ]
    }
   ],
   "source": [
    "%%bash\n",
    "gcc 2024.c -g -o 2024\n",
    "./2024"
   ]
  },
  {
   "cell_type": "markdown",
   "id": "6a4d88f4",
   "metadata": {},
   "source": [
    "## Question 3"
   ]
  },
  {
   "cell_type": "code",
   "execution_count": 40,
   "id": "155cc5e8",
   "metadata": {
    "vscode": {
     "languageId": "c"
    }
   },
   "outputs": [
    {
     "name": "stdout",
     "output_type": "stream",
     "text": [
      "Overwriting 2024.c\n"
     ]
    }
   ],
   "source": [
    "%%file 2024.c\n",
    "\n",
    "#include <stdio.h>\n",
    "#include <stdlib.h>\n",
    "#include <string.h>\n",
    "\n",
    "char* reverse_words(char *str) {\n",
    "    int i = 0;\n",
    "    char *tokens;\n",
    "    char **words = NULL;\n",
    "\n",
    "    char *str_copy = (char *)malloc((strlen(str) + 1) * sizeof(char));\n",
    "    strcpy(str_copy, str);\n",
    "\n",
    "    tokens = strtok(str_copy, \" \");\n",
    "    while (tokens != NULL) {\n",
    "        words = (char **)realloc(words, (i+1) * sizeof(char*));\n",
    "        words[i] = (char *)malloc((strlen(tokens) + 1) * sizeof(char));\n",
    "        strcpy(words[i], tokens);\n",
    "        i++;\n",
    "\n",
    "        tokens = strtok(NULL, \" \");\n",
    "    }\n",
    "\n",
    "    char *res = (char *)malloc((strlen(str) + 1) * sizeof(char));\n",
    "    res[0] = '\\0';\n",
    "    for (int j = i-1; j >= 0; j--) {\n",
    "        strcat(res, words[j]);\n",
    "\n",
    "        if (j != 0) {\n",
    "            strcat(res, \" \");\n",
    "        }\n",
    "\n",
    "        free(words[j]);\n",
    "    }\n",
    "\n",
    "    free(str_copy);\n",
    "    return res;\n",
    "\n",
    "    return res;\n",
    "}\n",
    "\n",
    "int main() {\n",
    "    char *s = \"Hello EngSci Hi\";\n",
    "    printf(\"%s\\n\", reverse_words(s));\n",
    "\n",
    "    return 0;\n",
    "}"
   ]
  },
  {
   "cell_type": "code",
   "execution_count": 41,
   "id": "3d40e4fa",
   "metadata": {},
   "outputs": [
    {
     "name": "stdout",
     "output_type": "stream",
     "text": [
      "Hi EngSci Hello\n"
     ]
    }
   ],
   "source": [
    "%%bash\n",
    "gcc 2024.c -g -o 2024\n",
    "./2024"
   ]
  },
  {
   "cell_type": "markdown",
   "id": "487469c8",
   "metadata": {},
   "source": [
    "## Question 4"
   ]
  },
  {
   "cell_type": "code",
   "execution_count": null,
   "id": "484d9f2a",
   "metadata": {
    "vscode": {
     "languageId": "c"
    }
   },
   "outputs": [
    {
     "name": "stdout",
     "output_type": "stream",
     "text": [
      "Overwriting 2024.c\n"
     ]
    }
   ],
   "source": [
    "%%file 2024.c\n",
    "\n",
    "#include <stdio.h>\n",
    "#include <stdlib.h>\n",
    "\n",
    "int is_increasing(int *arr, int sz) {\n",
    "    // Base case: sz advanced to zero, that means increasing\n",
    "    if (sz == 0) {\n",
    "        return 1;\n",
    "    } else {\n",
    "        // increasing\n",
    "        if (arr[sz-1] > arr[sz-2]) {\n",
    "            sz--;\n",
    "            arr = (int *)realloc(arr, sz * sizeof(int));\n",
    "            return is_increasing(arr, sz);\n",
    "        } else {\n",
    "            return 0;\n",
    "        }\n",
    "    }\n",
    "\n",
    "    return 0;\n",
    "}\n",
    "\n",
    "int main() {\n",
    "    int *arr = (int *)malloc(sizeof(arr) * 2);\n",
    "    arr[0] = 5;\n",
    "    arr[1] = 4;\n",
    "    printf(\"%d\\n\", is_increasing(arr, 2));\n",
    "    return 0;\n",
    "}\n"
   ]
  },
  {
   "cell_type": "code",
   "execution_count": 138,
   "id": "a8c3a9aa",
   "metadata": {},
   "outputs": [
    {
     "name": "stdout",
     "output_type": "stream",
     "text": [
      "0\n"
     ]
    }
   ],
   "source": [
    "%%bash\n",
    "gcc 2024.c -g -o 2024\n",
    "./2024"
   ]
  },
  {
   "cell_type": "markdown",
   "id": "db49db4a",
   "metadata": {},
   "source": [
    "## Question 5"
   ]
  },
  {
   "cell_type": "code",
   "execution_count": 63,
   "id": "58df8c89",
   "metadata": {
    "vscode": {
     "languageId": "objective-cpp"
    }
   },
   "outputs": [
    {
     "name": "stdout",
     "output_type": "stream",
     "text": [
      "Overwriting 2024.c\n"
     ]
    }
   ],
   "source": [
    "%%file 2024.c\n",
    "\n",
    "#include <stdio.h>\n",
    "#include <stdlib.h>\n",
    "#include <string.h>\n",
    "\n",
    "typedef struct CQ {\n",
    "    char **array;\n",
    "    int size;\n",
    "    int front;\n",
    "    int rear;\n",
    "} CQ;\n",
    "\n",
    "// Cyclic indexing: cur = (cur + 1) % len\n",
    "\n",
    "CQ* constructQueue() {\n",
    "    CQ *queue = (CQ *)malloc(sizeof(CQ));\n",
    "    queue->array = NULL;\n",
    "    queue->size = 0;\n",
    "    queue->front = -1;\n",
    "    queue->rear = -1;\n",
    "    return queue;\n",
    "}\n",
    "\n",
    "void enqueue(CQ *queue, char *to_add) {\n",
    "    //Add element to rear, shift front and rear pointers\n",
    "\n",
    "    //Case 1: Queue is empty\n",
    "    if (queue->size == 0) {\n",
    "        queue->size++;\n",
    "        queue->array = (char **)malloc(queue->size * sizeof(char *));\n",
    "        queue->front = 0;\n",
    "        queue->rear = 0;\n",
    "        queue->array[queue->rear] = (char *)malloc((strlen(to_add) + 1) * sizeof(char)); //Add to rear\n",
    "        strcpy(queue->array[queue->rear], to_add);\n",
    "    } else {\n",
    "        int new_size = queue->size + 1;\n",
    "        queue->array = (char **)realloc(queue->array, new_size * sizeof(char *));\n",
    "        queue->rear = (queue->rear + 1) % new_size;\n",
    "        queue->array[queue->rear] = (char *)malloc((strlen(to_add) + 1) * sizeof(char));\n",
    "        strcpy(queue->array[queue->rear], to_add);\n",
    "        queue->size = new_size;\n",
    "    }\n",
    "}\n",
    "\n",
    "char* dequeue(CQ *queue) {\n",
    "    char *value = (char *)malloc((strlen(queue->array[queue->front]) + 1) * sizeof(char));\n",
    "    strcpy(value, queue->array[queue->front]);\n",
    "    free(queue->array[queue->front]);\n",
    "\n",
    "    if (queue->front == queue->rear) {\n",
    "        queue->front = -1;\n",
    "        queue->rear = -1;\n",
    "    } else {\n",
    "        //Shift everything to the front\n",
    "        queue->front = (queue->front + 1) % queue->size;\n",
    "        \n",
    "        for (int i = 0; i < queue->size - 1; i++) {\n",
    "            queue->array[i] = queue->array[i+1];\n",
    "        }\n",
    "    }\n",
    "\n",
    "    queue->size--;\n",
    "    queue->array = (char **)realloc(queue->array, queue->size * sizeof(char *));\n",
    "    queue->front = (queue->front + 1) % queue->size;\n",
    "\n",
    "    return value;\n",
    "}\n",
    "\n",
    "void printQueue(CQ *queue) {\n",
    "    for (int i = 0; i < queue->size; i++) {\n",
    "        printf(\"%s ,\", queue->array[i]);\n",
    "    }\n",
    "    printf(\"\\n\");\n",
    "}\n",
    "\n",
    "int main() {\n",
    "    CQ *queue = constructQueue();\n",
    "    enqueue(queue, \"hello\");\n",
    "    printQueue(queue);\n",
    "    enqueue(queue, \"hi\");\n",
    "    printQueue(queue);\n",
    "    enqueue(queue, \"hot\");\n",
    "    printQueue(queue);\n",
    "    dequeue(queue);\n",
    "    printQueue(queue);\n",
    "    dequeue(queue);\n",
    "    printQueue(queue);\n",
    "    dequeue(queue);\n",
    "    printQueue(queue);\n",
    "    return 0;\n",
    "}"
   ]
  },
  {
   "cell_type": "code",
   "execution_count": 64,
   "id": "db8bc1af",
   "metadata": {},
   "outputs": [
    {
     "name": "stdout",
     "output_type": "stream",
     "text": [
      "hello ,\n",
      "hello ,hi ,\n",
      "hello ,hi ,hot ,\n",
      "hi ,hot ,\n",
      "hot ,\n",
      "\n"
     ]
    }
   ],
   "source": [
    "%%bash\n",
    "gcc 2024.c -g -o 2024\n",
    "./2024"
   ]
  },
  {
   "cell_type": "markdown",
   "id": "baa76f2d",
   "metadata": {},
   "source": [
    "## Question 6"
   ]
  },
  {
   "cell_type": "code",
   "execution_count": 145,
   "id": "07d3fd8f",
   "metadata": {},
   "outputs": [
    {
     "name": "stdout",
     "output_type": "stream",
     "text": [
      "1\n",
      "None\n",
      "3\n",
      "2\n",
      "1\n",
      "None\n",
      "3\n",
      "2\n",
      "1\n",
      "None\n",
      "3\n",
      "2\n",
      "1\n",
      "None\n",
      "3\n",
      "2\n",
      "1\n",
      "None\n",
      "3\n",
      "2\n",
      "1\n"
     ]
    }
   ],
   "source": [
    "from typing import List, Dict, Any\n",
    "\n",
    "class ListNode:\n",
    "    def __init__(self, data: Any):\n",
    "        self.data = data\n",
    "        self.next = None\n",
    "\n",
    "class AdjacencyList:\n",
    "    def __init__(self, num_nodes: int = 0):\n",
    "        self.nodes: List[ListNode] = []\n",
    "        self.num_nodes: int = num_nodes\n",
    "\n",
    "        # Adding nodes to check up to 3 positions\n",
    "        for node_idx in range(self.num_nodes):\n",
    "\n",
    "            LL = ListNode(node_idx)\n",
    "            if (node_idx < 21):\n",
    "                LL.next = ListNode(node_idx+1)\n",
    "\n",
    "                if (node_idx < 20):\n",
    "                    LL.next.next = ListNode(node_idx+2)\n",
    "\n",
    "                    if (node_idx < 19):\n",
    "                        LL.next.next.next = ListNode(node_idx+3)\n",
    "                        \n",
    "            self.nodes.append(LL)\n",
    "\n",
    "def can_win(graph, pos, memo):\n",
    "    if pos >= 21:\n",
    "        return False  # can't win from or beyond 21\n",
    "\n",
    "    if pos in memo:\n",
    "        return memo[pos]\n",
    "\n",
    "    node = graph.nodes[pos].next\n",
    "    while node:\n",
    "        if not can_win(graph, node.data, memo):\n",
    "            memo[pos] = True\n",
    "            return True\n",
    "        node = node.next\n",
    "\n",
    "    memo[pos] = False\n",
    "    return False\n",
    "\n",
    "def can_win(graph, pos):\n",
    "    if pos >= 21:\n",
    "        return False  # can't win from or beyond 21\n",
    "\n",
    "    # if pos in memo:\n",
    "    #     return memo[pos]\n",
    "\n",
    "    node = graph.nodes[pos].next\n",
    "    while node:\n",
    "        if not can_win(graph, node.data):\n",
    "            # memo[pos] = True\n",
    "            return True\n",
    "        node = node.next\n",
    "\n",
    "    # memo[pos] = False\n",
    "    return False\n",
    "    \n",
    "def find_best_move(start):\n",
    "    graph = AdjacencyList(22)\n",
    "    memo = {}\n",
    "\n",
    "    node = graph.nodes[start].next\n",
    "    while node:\n",
    "        if not can_win(graph, node.data):\n",
    "            return node.data - start\n",
    "        node = node.next\n",
    "\n",
    "    return None\n",
    "\n",
    "for i in range(21):\n",
    "    print(find_best_move(i))\n",
    "    "
   ]
  },
  {
   "cell_type": "code",
   "execution_count": 143,
   "id": "a021b514",
   "metadata": {},
   "outputs": [
    {
     "name": "stdout",
     "output_type": "stream",
     "text": [
      "1\n",
      "1\n",
      "1\n",
      "1\n",
      "1\n",
      "1\n",
      "1\n",
      "1\n",
      "1\n",
      "1\n",
      "1\n",
      "1\n",
      "1\n",
      "1\n",
      "1\n",
      "1\n",
      "1\n",
      "None\n",
      "3\n",
      "2\n",
      "1\n"
     ]
    }
   ],
   "source": [
    "class ListNode:\n",
    "    def __init__(self, data):\n",
    "        self.data = data\n",
    "        self.next = None\n",
    "\n",
    "class AdjacencyList:\n",
    "    def __init__(self, num_nodes: int):\n",
    "        self.num_nodes = num_nodes\n",
    "        self.nodes: List[ListNode] = []\n",
    "\n",
    "        for i in range(self.num_nodes):\n",
    "            LL = ListNode(i)\n",
    "\n",
    "            if i < 21:\n",
    "                LL.next = ListNode(i+1)\n",
    "\n",
    "                if i < 20:\n",
    "                    LL.next.next = ListNode(i+2)\n",
    "\n",
    "                    if i < 19:\n",
    "                        LL.next.next.next = ListNode(i+3)\n",
    "\n",
    "            self.nodes.append(LL)\n",
    "\n",
    "def dfs(g: AdjacencyList, start_pos: int) -> bool:\n",
    "    start = g.nodes[start_pos]\n",
    "    visited = [False] * g.num_nodes\n",
    "    stack = []\n",
    "    stack.append(start)\n",
    "\n",
    "    while stack:\n",
    "        cur = stack.pop()\n",
    "\n",
    "        if cur.data >= 21 or visited[cur.data]:\n",
    "            continue\n",
    "\n",
    "        visited[cur.data] = True\n",
    "        cur = g.nodes[cur.data].next\n",
    "\n",
    "        # LL:\n",
    "        while cur is not None:\n",
    "            if cur.data < len(visited) and not visited[cur.data]:\n",
    "                stack.append(g.nodes[cur.data])\n",
    "            cur = cur.next\n",
    "\n",
    "    # Backtrack\n",
    "    cur = g.nodes[start_pos].next\n",
    "    while cur is not None:\n",
    "        if cur.data >= 21:\n",
    "            return True\n",
    "        cur = cur.next\n",
    "    \n",
    "    return False\n",
    "\n",
    "def find_best_move(start: int):\n",
    "    graph = AdjacencyList(22)\n",
    "\n",
    "    node = graph.nodes[start].next\n",
    "    while node:\n",
    "        if not dfs(graph, node.data):\n",
    "            return node.data - start\n",
    "        node = node.next\n",
    "\n",
    "    return None\n",
    "\n",
    "for i in range(21):\n",
    "    print(find_best_move(start=i))"
   ]
  },
  {
   "cell_type": "code",
   "execution_count": 142,
   "id": "22042b6c",
   "metadata": {},
   "outputs": [
    {
     "name": "stdout",
     "output_type": "stream",
     "text": [
      "1\n",
      "1\n",
      "1\n",
      "1\n",
      "1\n",
      "1\n",
      "1\n",
      "1\n",
      "1\n",
      "1\n",
      "1\n",
      "1\n",
      "1\n",
      "1\n",
      "1\n",
      "1\n",
      "1\n",
      "1\n",
      "1\n",
      "1\n",
      "1\n",
      "None\n"
     ]
    }
   ],
   "source": [
    "class Stack:\n",
    "    def __init__(self):\n",
    "        self.items = []\n",
    "\n",
    "    def add(self, item):\n",
    "        self.items.append(item)\n",
    "\n",
    "    def get(self):\n",
    "        return self.items.pop()\n",
    "\n",
    "    def is_empty(self):\n",
    "        return len(self.items) == 0\n",
    "\n",
    "\n",
    "def DFS(g: AdjacencyList, start_pos: int) -> bool:\n",
    "    visited = [False] * g.num_nodes\n",
    "    losing = [False] * g.num_nodes  # losing[i] = True means position i is a losing position\n",
    "    DS = Stack()\n",
    "    DS.add(start_pos)\n",
    "\n",
    "    while not DS.is_empty():\n",
    "        cur = DS.get()\n",
    "\n",
    "        if visited[cur]:\n",
    "            continue\n",
    "\n",
    "        visited[cur] = True\n",
    "\n",
    "        # If current position >= 21, it's terminal — it's a losing position\n",
    "        if cur >= 21:\n",
    "            losing[cur] = True\n",
    "            continue\n",
    "\n",
    "        # Scan all neighbors\n",
    "        node = g.nodes[cur].next\n",
    "        has_losing_child = False\n",
    "        while node:\n",
    "            if node.data < g.num_nodes:\n",
    "                if losing[node.data]:\n",
    "                    has_losing_child = True  # if one move leads to a losing position, we can win\n",
    "                elif not visited[node.data]:\n",
    "                    DS.add(node.data)\n",
    "            node = node.next\n",
    "\n",
    "        # If at least one move goes to a losing position, this is winning\n",
    "        if has_losing_child:\n",
    "            losing[cur] = False\n",
    "        else:\n",
    "            losing[cur] = True\n",
    "\n",
    "    return not losing[start_pos]  # True means it's a winning position\n",
    "\n",
    "def find_best_move(start: int):\n",
    "    graph = AdjacencyList(22)\n",
    "\n",
    "    node = graph.nodes[start].next\n",
    "    while node:\n",
    "        if not DFS(graph, node.data):\n",
    "            return node.data - start\n",
    "        node = node.next\n",
    "\n",
    "    return None\n",
    "\n",
    "for i in range(22):\n",
    "    print(find_best_move(i))\n"
   ]
  },
  {
   "cell_type": "markdown",
   "id": "dd0b112b",
   "metadata": {},
   "source": [
    "## Question 8"
   ]
  },
  {
   "cell_type": "code",
   "execution_count": 140,
   "id": "87b0e936",
   "metadata": {},
   "outputs": [
    {
     "name": "stdout",
     "output_type": "stream",
     "text": [
      "False\n"
     ]
    }
   ],
   "source": [
    "def canBeSegmented(s, wordDict):\n",
    "    if not s:\n",
    "        return True\n",
    "    \n",
    "    for i in range(1, len(s)+1):\n",
    "        if s[:i] in wordDict and canBeSegmented(s[i:], wordDict):\n",
    "            return True\n",
    "    \n",
    "    return False\n",
    "\n",
    "def wordBreak(s, wordDict):\n",
    "    wordDict = set(wordDict)\n",
    "    memo = {}\n",
    "\n",
    "    def recursion(s):\n",
    "        if s in memo:\n",
    "            return memo[s]\n",
    "        if not s:\n",
    "            return True\n",
    "\n",
    "        for i in range(1, len(s) + 1):\n",
    "            if s[:i] in wordDict and recursion(s[i:]):\n",
    "                memo[s] = True\n",
    "                return True\n",
    "\n",
    "        memo[s] = False\n",
    "        return False\n",
    "\n",
    "    return recursion(s)\n",
    "\n",
    "s1 = \"aaaaaaaaaaaaaaaaaaaaaaaaaaaaaaaaaaaaaaaaaaaaaaaaaaaaaaaaaaaaaaaaaaaaaaaaaaaaaaaaaaaaaaaaaaaaaaaaaaaaaaaaaaaaaaaaaaaaaaaaaaaaaaaaaaaaaaaaaaaaaaaaaaaaaaaaaaaaaaaaaaaaaaaaaaaaaaaaaaaaaaaaaab\"\n",
    "wordDict1 = [\"a\",\"aa\",\"aaa\",\"aaaa\",\"aaaaa\",\"aaaaaa\",\"aaaaaaa\",\"aaaaaaaa\",\"aaaaaaaaa\",\"aaaaaaaaaa\"]\n",
    "print(wordBreak(s1, wordDict1))"
   ]
  },
  {
   "cell_type": "markdown",
   "id": "223fcf9e",
   "metadata": {},
   "source": [
    "## Question 9"
   ]
  },
  {
   "cell_type": "code",
   "execution_count": 94,
   "id": "86d6d530",
   "metadata": {},
   "outputs": [
    {
     "name": "stdout",
     "output_type": "stream",
     "text": [
      "17\n"
     ]
    }
   ],
   "source": [
    "class Node:\n",
    "    def __init__(self, value):\n",
    "        self.value = value\n",
    "        self.left = None\n",
    "        self.right = None\n",
    "\n",
    "def construct_tree():\n",
    "    root = Node(1)\n",
    "    root.left = Node(4)\n",
    "    root.right = Node(5)\n",
    "    root.right.left = Node(7)\n",
    "    return root\n",
    "\n",
    "def sum_tree(root: Node):\n",
    "    if root is None:\n",
    "        return 0\n",
    "\n",
    "    return root.value + sum_tree(root.left) + sum_tree(root.right)\n",
    "\n",
    "if __name__ == '__main__':\n",
    "    root = construct_tree()\n",
    "    print(sum_tree(root))\n"
   ]
  }
 ],
 "metadata": {
  "kernelspec": {
   "display_name": "Python 3",
   "language": "python",
   "name": "python3"
  },
  "language_info": {
   "codemirror_mode": {
    "name": "ipython",
    "version": 3
   },
   "file_extension": ".py",
   "mimetype": "text/x-python",
   "name": "python",
   "nbconvert_exporter": "python",
   "pygments_lexer": "ipython3",
   "version": "3.12.5"
  }
 },
 "nbformat": 4,
 "nbformat_minor": 5
}
